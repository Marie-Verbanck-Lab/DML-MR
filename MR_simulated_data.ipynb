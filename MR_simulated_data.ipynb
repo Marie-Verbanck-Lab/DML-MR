{
 "cells": [
  {
   "cell_type": "markdown",
   "id": "c9ce49f6",
   "metadata": {},
   "source": [
    "# Mendelian Randomization using the generated simulated data"
   ]
  },
  {
   "cell_type": "markdown",
   "id": "94d34769",
   "metadata": {},
   "source": [
    "## Simulate dataset for further MR analysis"
   ]
  },
  {
   "cell_type": "code",
   "execution_count": 226,
   "id": "e1f02b5d",
   "metadata": {},
   "outputs": [],
   "source": [
    "import os\n",
    "import numpy as np\n",
    "import itertools\n",
    "import pandas as pd\n",
    "from scipy.sparse import load_npz\n",
    "from itertools import combinations\n",
    "import pdb\n",
    "\n",
    "class GeneticSimulation:\n",
    "    \n",
    "    def __init__(self, dataset_size=10027, num_exposures=5, num_outcomes=3, seed=11):\n",
    "        self.dataset_size = dataset_size\n",
    "        self.num_exposures = num_exposures\n",
    "        self.num_outcomes = num_outcomes\n",
    "        self.num_causal_variants = int(dataset_size * 0.05)\n",
    "        self.num_variables = num_exposures + num_outcomes\n",
    "        self.rng = np.random.default_rng(seed=seed)\n",
    "        self.LD_sparse = None\n",
    "        self.h2 = 0.1\n",
    "        self.pleiotropy_prop = 0.1\n",
    "        self.prop_directionnal = 0.7\n",
    "        # Generate correlated_effect matrix once during initialization\n",
    "        #self.correlated_effect = self.generate_correlated_effect_matrix(\n",
    "        #    num_rows=self.num_exposures, num_columns=self.num_outcomes,\n",
    "        #    null_prob=0.5, low=0.1, high=0.3, seed=self.rng.integers(0, 1000)\n",
    "        #)\n",
    "        # Save the correlated_effect matrix as a NumPy file\n",
    "        #np.savetxt('correlated_effect_matrix.csv', self.correlated_effect, delimiter='\\t')\n",
    "\n",
    "        \n",
    "\n",
    "    def load_LD_sparse(self, file_path):\n",
    "        self.LD_sparse = load_npz(file_path)\n",
    "        \n",
    "    def set_causal_variants(self, pleiotropy_prop):\n",
    "        \"\"\"\n",
    "        Set the causal variants for exposures in the simulated dataset.\n",
    "        Parameters:\n",
    "        - pleiotropy_prop (float): Proportion of pleiotropic variants.\n",
    "        Returns:\n",
    "        - np.ndarray: Array containing lists of causal variants for each exposure.\n",
    "        \"\"\"\n",
    "        \n",
    "        pleio = []\n",
    "        \n",
    "        if pleiotropy_prop == 0:\n",
    "            all_causal_variants = []\n",
    "            # Choose significant variants for all exposures\n",
    "            all_variants = np.arange(self.dataset_size)\n",
    "            causal_list = self.rng.choice(all_variants, size=self.num_causal_variants, replace=False)\n",
    "            # Divide the list into exposures\n",
    "            all_causal_variants = np.array_split(causal_list, self.num_exposures)\n",
    "    \n",
    "        if pleiotropy_prop > 0:\n",
    "            all_causal_variants = [[] for _ in range(self.num_exposures)]\n",
    "            # Generate all pairs of exposures\n",
    "            exposure_pairs = list(itertools.combinations(range(self.num_exposures), 2))\n",
    "            # Calculate the number of pleiotropic variants per pair\n",
    "            # pdb.set_trace()\n",
    "            causal_variants_per_exposure = int(self.num_causal_variants / self.num_exposures)\n",
    "            pleiotropic_variant_count_per_pair = int((causal_variants_per_exposure * pleiotropy_prop) / (self.num_exposures - 1))\n",
    "            \n",
    "\n",
    "            # Assign pleiotropic variants to each pair\n",
    "            # pdb.set_trace()\n",
    "            for pair in exposure_pairs:\n",
    "                pleiotropic_variants_for_pair = self.rng.choice(self.dataset_size, size=pleiotropic_variant_count_per_pair, replace=False)\n",
    "                pleio.append(pleiotropic_variants_for_pair)\n",
    "                # Add these pleiotropic variants to the exposures in the pair\n",
    "                for exposure in pair:\n",
    "                    all_causal_variants[exposure] = np.unique(np.concatenate((all_causal_variants[exposure], pleiotropic_variants_for_pair)))\n",
    "                    \n",
    "            # Assign unique variants to each exposure\n",
    "            for exposure_index in range(self.num_exposures):\n",
    "                unique_variant_count = causal_variants_per_exposure - len(all_causal_variants[exposure_index])\n",
    "\n",
    "                unique_variants = self.rng.choice(self.dataset_size, size=unique_variant_count, replace=False)\n",
    "\n",
    "                all_causal_variants[exposure_index] = np.unique(np.concatenate((all_causal_variants[exposure_index], unique_variants)))            \n",
    "\n",
    "        return all_causal_variants,pleio\n",
    "\n",
    "    def generate_correlated_effect_matrix(self, num_rows=100, num_columns=3, null_prob=0.5, low=0.1, high=0.3, seed=None):\n",
    "        # NOTE: THIS FUNCTION WILL NOT BE USED IN THIS TUTORIAL, correlated_effect will be predifined in the testing code \n",
    "        \"\"\"\n",
    "        Generate a correlated_effect matrix with random values and introduce variability.\n",
    "\n",
    "        Parameters:\n",
    "        - num_rows (int): Number of rows in the matrix.\n",
    "        - num_columns (int): Number of columns in the matrix.\n",
    "        - null_prob (float): Probability of setting an effect to zero.\n",
    "        - low (float): Lower bound for random values.\n",
    "        - high (float): Upper bound for random values.\n",
    "        - seed (int): Seed for random number generation.\n",
    "\n",
    "        Returns:\n",
    "        - np.ndarray: Correlated_effect matrix with random values and variability.\n",
    "        \"\"\"\n",
    "        num_rows = self.num_exposures if num_rows is None else num_rows\n",
    "        num_columns = self.num_outcomes if num_columns is None else num_columns\n",
    "\n",
    "        rng = np.random.default_rng(seed=seed)\n",
    "        correlated_effect = rng.uniform(low=low, high=high, size=(num_rows, num_columns))\n",
    "\n",
    "        # Introduce variability by randomly setting some effects to zero\n",
    "        null_mask = rng.random(size=(num_rows, num_columns)) < null_prob\n",
    "        correlated_effect[null_mask] = 0.0\n",
    "\n",
    "        return correlated_effect\n",
    "\n",
    "    \n",
    "    def simulate_base_dataset(self, h2=0.5, pleiotropy_prop=0.1,seed = None):\n",
    "        all_causal_variants,pleio = self.set_causal_variants(pleiotropy_prop)\n",
    "\n",
    "        # Calculate the overall phenotypic variance using heritability (h2)\n",
    "        sigma_causal = (1 + (self.dataset_size * h2) / self.num_causal_variants)\n",
    "        # Simulate genetic components\n",
    "        base_dataset = self.rng.normal(size=(self.dataset_size, self.num_variables))\n",
    "        base_dataset = pd.DataFrame(base_dataset)\n",
    "        paires = list(combinations(range(self.num_exposures), 2))\n",
    "        i = 0\n",
    "        keep_pleio = []\n",
    "        if len(pleio) > 0:\n",
    "            # concatenation \n",
    "            all_pleio = np.concatenate(pleio)\n",
    "            # we keep only x percent of the list\n",
    "            keep_pleio = np.random.choice(all_pleio,int(self.prop_directionnal*len(all_pleio)), replace=False)\n",
    "            rm_pleio = list(set(all_pleio) - set(keep_pleio))\n",
    "\n",
    "            for pleio_exposure in pleio:\n",
    "                significant_variants = list(set(pleio_exposure) - set(rm_pleio))\n",
    "                sigmas_exposure = self.rng.normal(0, sigma_causal, (len(significant_variants),2))\n",
    "                colonnes = [self.num_outcomes+paires[i][0],self.num_outcomes+paires[i][1]]\n",
    "                base_dataset.iloc[significant_variants,colonnes] = abs(sigmas_exposure)\n",
    "\n",
    "        # Apply causal variance to the subset of rows representing significant variants\n",
    "        for exposure_index, significant_variants in enumerate(all_causal_variants):\n",
    "            significant_variants = list(set(significant_variants)-set(keep_pleio))\n",
    "            significant_variants = np.array(significant_variants, dtype = int)\n",
    "            sigmas_exposure = self.rng.normal(0, sigma_causal, len(significant_variants))\n",
    "            base_dataset.iloc[significant_variants, self.num_outcomes + exposure_index] = sigmas_exposure\n",
    "\n",
    "       \n",
    "        # Create column names for the DataFrame\n",
    "        col_names = [f\"Y_{i + 1}\" for i in range(self.num_outcomes)] + [f\"X_{i + 1}\" for i in range(self.num_exposures)]\n",
    "        # Create the final DataFrame\n",
    "        base_dataset.columns = col_names\n",
    "        # base_dataset_df = pd.DataFrame(base_dataset, columns=col_names)\n",
    "\n",
    "        return base_dataset,all_causal_variants,pleio\n",
    "\n",
    "\n",
    "    def propagate_LD_sparse(self, ld_sparse_matrix, effect_sizes):\n",
    "        \"\"\"\n",
    "        Propagate LD effects through the simulated dataset.\n",
    "\n",
    "        - ld_sparse_matrix (scipy.sparse.csr_matrix): Sparse matrix representing LD information.\n",
    "        - effect_sizes (np.ndarray): Array of effect sizes.\n",
    "\n",
    "        Returns:\n",
    "        - np.ndarray: Array of propagated effect sizes.\n",
    "        \"\"\"\n",
    "        propagated_effect_sizes = effect_sizes.copy()\n",
    "        for i in range(ld_sparse_matrix.shape[0]):\n",
    "            if np.any(ld_sparse_matrix.getrow(i).data):\n",
    "                ld_row = ld_sparse_matrix.getrow(i).toarray().flatten()\n",
    "                ld_adjustment = np.dot(ld_row, effect_sizes)\n",
    "                propagated_effect_sizes += ld_adjustment\n",
    "\n",
    "        return propagated_effect_sizes\n",
    "\n",
    "    def simulate_outcomes(self, base_dataset_LD, correlated_effect, causal_variants,pleio):\n",
    "        \"\"\"\n",
    "        Simulate outcomes based on the correlated_effect matrix.\n",
    "\n",
    "        Parameters:\n",
    "        - base_dataset_LD (pd.DataFrame): Simulated dataset with genetic components and LD propagation.\n",
    "        - correlated_effect (np.ndarray): Array representing the correlation between outcomes and exposures.\n",
    "\n",
    "        Returns:\n",
    "        - pd.DataFrame: DataFrame containing simulated outcomes.\n",
    "        \"\"\"\n",
    "        paires = list(combinations(range(self.num_exposures), 2))\n",
    "        i = 0\n",
    "        if len(pleio) > 0:\n",
    "            for pleio_exposure in pleio:\n",
    "                X = base_dataset_LD.iloc[pleio_exposure,[self.num_outcomes+paires[i][0],self.num_outcomes+paires[i][1]]]\n",
    "                X = pd.DataFrame(X)\n",
    "                matrix = np.random.uniform(low=0.1, high=0.5, size=(correlated_effect.shape[1], correlated_effect.shape[1]))\n",
    "                noise=self.rng.multivariate_normal(np.zeros(correlated_effect.shape[1]), matrix, X.shape[0])\n",
    "                print(sum(noise))\n",
    "                outcomes = np.dot(X, correlated_effect[(paires[i][0],paires[i][1]),:])+noise\n",
    "                base_dataset_LD.iloc[pleio_exposure,:self.num_outcomes] = outcomes\n",
    "                i += 1\n",
    "        for index,pleio_nopleio in enumerate(causal_variants):\n",
    "            if len(pleio) > 0:\n",
    "                nonpleio_exposures = list(set(pleio_nopleio) - set(np.concatenate(pleio))) # ordre ?\n",
    "            else:\n",
    "                nonpleio_exposures = list(set(pleio_nopleio))\n",
    "            nonpleio_exposures = [int(x) for x in nonpleio_exposures]\n",
    "            X = base_dataset_LD.iloc[nonpleio_exposures,self.num_outcomes+index]\n",
    "            X = pd.DataFrame(X)\n",
    "            matrix = np.random.uniform(low=0.1, high=0.5, size=(correlated_effect.shape[1], correlated_effect.shape[1]))\n",
    "            noise=self.rng.multivariate_normal(np.zeros(correlated_effect.shape[1]), matrix, X.shape[0])\n",
    "            print(sum(noise))\n",
    "            outcomes = np.dot(X, correlated_effect[index,:].reshape(1, -1))+noise\n",
    "            base_dataset_LD.iloc[nonpleio_exposures,:self.num_outcomes] = outcomes\n",
    "            \n",
    "        return base_dataset_LD\n",
    "        \n",
    "        \n",
    "    def simulate_dataset(self, correlated_effect, pleiotropy_prop=0.1, h2=0.1, seed=None):\n",
    "        \"\"\"\n",
    "        Simulate a complete final dataset including base genetic components, LD propagation, and outcomes.\n",
    "\n",
    "        Parameters:\n",
    "        - correlated_effect (np.ndarray): Array representing the correlation between outcomes and exposures.\n",
    "        - pleiotropy_prop (float): Proportion of pleiotropic variants.\n",
    "        - h2 (float): Heritability.\n",
    "        - seed (int): Seed for random number generation.\n",
    "\n",
    "        Returns:\n",
    "        - pd.DataFrame: Simulated dataset with outcomes and exposures.\n",
    "        - np.ndarray: Array containing lists of causal variants for each exposure.\n",
    "        \"\"\"\n",
    "        if self.LD_sparse is None:\n",
    "            raise ValueError(\"LD matrix not loaded. Use 'load_LD_sparse' method to load the LD matrix.\")\n",
    "\n",
    "        # Simulate the base dataset with genetic components and LD propagation\n",
    "        base_dataset, all_causal_variants,pleio = self.simulate_base_dataset(h2=h2, pleiotropy_prop=pleiotropy_prop, seed=seed)\n",
    "        # Simulate outcomes based on the correlated dataset\n",
    "        base_dataset = self.simulate_outcomes(base_dataset, correlated_effect,all_causal_variants,pleio)\n",
    "\n",
    "        # Update outcomes in the base dataset\n",
    "        # base_dataset.iloc[np.concatenate(all_causal_variants).astype(int), :self.num_outcomes] = outcomes_df.values\n",
    "\n",
    "        # Apply LD propagation to the entire dataset\n",
    "        LD_sparse = self.LD_sparse.tocsr()\n",
    "        base_dataset_LD = self.propagate_LD_sparse(LD_sparse, base_dataset)\n",
    "\n",
    "        # Center exposures and outcomes by subtracting the mean of all variables\n",
    "        mean_all_variables = base_dataset_LD.mean()\n",
    "        base_dataset_LD -= mean_all_variables # une sorte de nomalisation\n",
    "        \n",
    "        # Rename columns\n",
    "        col_names = [f\"Y_{i + 1}\" for i in range(self.num_outcomes)] + [f\"X_{i + 1}\" for i in range(self.num_exposures)]\n",
    "        base_dataset_LD.columns = col_names\n",
    "\n",
    "        # Return the base dataset and indices of significant variants\n",
    "        return base_dataset_LD, all_causal_variants,pleio\n",
    "\n",
    "    def compute_std_deviation(self, simulated_dataset):\n",
    "        \"\"\"\n",
    "        Compute the standard deviation of the final simulated dataset.\n",
    "\n",
    "        Parameters:\n",
    "        - simulated_dataset (pd.DataFrame): The simulated dataset.\n",
    "\n",
    "        Returns:\n",
    "        - std_deviation (float): The standard deviation of the dataset.\n",
    "        \"\"\"\n",
    "\n",
    "        # Compute the standard deviation of the entire dataset\n",
    "        std_deviation = simulated_dataset.std()\n",
    "\n",
    "        return std_deviation\n",
    "\n",
    "    \n",
    "    def verify_number_of_IVs(self, simulated_dataset):\n",
    "        \"\"\"\n",
    "        Verify the number of independent variables (IVs) based on the specified criterion.\n",
    "\n",
    "        Parameters:\n",
    "        - simulated_dataset (pd.DataFrame): The simulated dataset.\n",
    "\n",
    "        Returns:\n",
    "        - num_IVs (int): The number of IVs that meet the specified criterion.\n",
    "        - num_IVs_pleiotropic (int): The number of IVs with normalized betas > 5.45131 for at least two exposures.\n",
    "        - IVs_indices (np.ndarray): The indices of identified IVs (row indices).\n",
    "        \"\"\"\n",
    "\n",
    "        # Extract the beta values for the exposures only\n",
    "        exposure_betas = simulated_dataset.iloc[:, self.num_outcomes:self.num_outcomes + self.num_exposures].values\n",
    "\n",
    "        # Calculate the variance of the beta values\n",
    "        variance_betas = np.var(exposure_betas, axis=0)\n",
    "        # Calculate the normalized beta values using the variance\n",
    "        normalized_betas = np.abs(exposure_betas / np.sqrt(variance_betas))\n",
    "\n",
    "        # Identify IVs based on the threshold\n",
    "        dict_IVs = {}\n",
    "        for exposure in range(self.num_exposures): # self.num_exposures\n",
    "            IVs_indices = np.where(np.abs(normalized_betas[:,exposure]) > 5.45131)[0]\n",
    "            dict_IVs[f\"X_{exposure+1}\"] = IVs_indices\n",
    "\n",
    "        # Count the number of identified IVs\n",
    "        num_IVs = sum(len(valeurs) for valeurs in dict_IVs.values())\n",
    "        # pdb.set_trace()\n",
    "        # Identify pleiotropic IVs (normalized betas > 5.45131 for at least two exposures)\n",
    "        pleiotropic_IVs_indices = np.where(np.sum(normalized_betas > 5.45131, axis=1) >= 2)[0]\n",
    "        num_pleiotropic_IVs = len(pleiotropic_IVs_indices)\n",
    "\n",
    "        return num_IVs, num_pleiotropic_IVs, dict_IVs, pleiotropic_IVs_indices\n",
    "\n",
    "    def run_scenario(self, pleiotropy_prop, h2, num_datasets, parent_folder=\"PleioLin\"):\n",
    "        \"\"\"\n",
    "        Run a scenario of the genetic simulation for multiple datasets.\n",
    "\n",
    "        Parameters:\n",
    "        - pleiotropy_prop (float): Proportion of pleiotropic variants.\n",
    "        - h2 (float): Heritability.\n",
    "        - num_datasets (int): Number of datasets to simulate.\n",
    "        - parent_folder (str): Parent folder to save results.\n",
    "\n",
    "        Returns:\n",
    "        - list: List of dictionaries containing information for each simulated dataset.\n",
    "        \"\"\"\n",
    "        model_results = []\n",
    "        \n",
    "        # Create parent folder if it doesn't exist\n",
    "        if not os.path.exists(parent_folder):\n",
    "            os.makedirs(parent_folder)\n",
    "\n",
    "        for dataset_num in range(1, num_datasets + 1):\n",
    "            # Change the seed for each iteration\n",
    "            seed_for_iteration = self.rng.integers(0, 2**31 - 1)\n",
    "            \n",
    "            # Run the simulation for a single dataset\n",
    "            base_dataset, all_causal_variants,pleio = self.simulate_dataset(\n",
    "                correlated_effect=correlated_effect,\n",
    "                pleiotropy_prop=pleiotropy_prop,\n",
    "                h2=h2,\n",
    "                seed=seed_for_iteration\n",
    "            )\n",
    "            \n",
    "            # Save the base dataset to a CSV file\n",
    "            scenario_folder = f'Scenario{int(pleiotropy_prop * 100)}_h2{h2}'\n",
    "            scenario_path = os.path.join(parent_folder, scenario_folder)\n",
    "            if not os.path.exists(scenario_path):\n",
    "                os.makedirs(scenario_path)\n",
    "            base_dataset.to_csv(os.path.join(scenario_path, f'dataset_{dataset_num}.csv'), index=False)\n",
    "\n",
    "            # Verify the number of IVs and get relevant information\n",
    "            num_IVs, num_pleiotropic_IVs, IVs_indices, pleiotropic_IVs_indices = self.verify_number_of_IVs(base_dataset)\n",
    "\n",
    "            # Compute the standard deviation of the final simulated dataset\n",
    "            std_deviation = self.compute_std_deviation(base_dataset)\n",
    "\n",
    "            # Save causal variants to CSV files\n",
    "            # causal_variants_df = pd.DataFrame({'causal_variants': all_causal_variants})\n",
    "            # causal_variants_df.to_csv(os.path.join(scenario_path, f'causal_variants_{dataset_num}.csv'), index=False)\n",
    "\n",
    "            # Save IVs_indices to CSV for each dataset\n",
    "            IVs_indices_df = pd.DataFrame({'IVs_indices': IVs_indices})\n",
    "            IVs_indices_df.to_csv(os.path.join(scenario_path, f'IVs_indices_{dataset_num}.csv'), index=False)\n",
    "\n",
    "            # Save pleiotropic_IVs_indices to CSV for each dataset\n",
    "            pleiotropic_IVs_indices_df = pd.DataFrame({'pleiotropic_IVs_indices': pleiotropic_IVs_indices})\n",
    "            pleiotropic_IVs_indices_df.to_csv(os.path.join(scenario_path, f'pleiotropic_IVs_indices_{dataset_num}.csv'), index=False)\n",
    "\n",
    "            # Save std_deviation to CSV for each dataset\n",
    "            pd.DataFrame({'std_deviation': [std_deviation]}).to_csv(os.path.join(scenario_path, f'std_deviation_{dataset_num}.csv'), index=False)\n",
    "\n",
    "            # Save params.txt\n",
    "            with open(os.path.join(scenario_path, 'params.txt'), 'w') as params_file:\n",
    "                params_file.write(f\"Pleiotropic Variants (%): {pleiotropy_prop * 100}\\n\")\n",
    "                params_file.write(f\"Heritability: {h2}\\n\")\n",
    "                params_file.write(f\"Seed for Iteration: {seed_for_iteration}\\n\")\n",
    "\n",
    "            # Store the relevant information in a dictionary\n",
    "            result = {\n",
    "                \"Pleiotropic Variants (%)\": pleiotropy_prop * 100,\n",
    "                \"Heritability\": h2,\n",
    "                \"Base Dataset\": base_dataset,\n",
    "                \"Causal Variants\": np.concatenate(all_causal_variants),\n",
    "                \"Divided CV\": all_causal_variants,\n",
    "                \"IV Indices\": IVs_indices,\n",
    "                \"Num IVs\":num_IVs,\n",
    "                \"pleio\":pleio,\n",
    "                \"num pleiotropic IVs\": num_pleiotropic_IVs,\n",
    "                \"pleiotropic IVs indices\": pleiotropic_IVs_indices,\n",
    "                \"Standard Deviation\": std_deviation,\n",
    "                \"Seed for Iteration\": seed_for_iteration\n",
    "            }\n",
    "            model_results.append(result)\n",
    "\n",
    "        return model_results"
   ]
  },
  {
   "cell_type": "code",
   "execution_count": 227,
   "id": "6d129fc1",
   "metadata": {
    "scrolled": false
   },
   "outputs": [
    {
     "name": "stderr",
     "output_type": "stream",
     "text": [
      "/var/folders/3l/32m97f2n2cx347g5721npvk80000gq/T/ipykernel_2724/249694847.py:204: RuntimeWarning: covariance is not symmetric positive-semidefinite.\n",
      "  noise=self.rng.multivariate_normal(np.zeros(correlated_effect.shape[1]), matrix, X.shape[0])\n"
     ]
    },
    {
     "name": "stdout",
     "output_type": "stream",
     "text": [
      "[-4.92430645 -3.86349476 -5.25148161]\n",
      "[8.36082207 9.56376676 3.02006368]\n",
      "[ 3.38851511 -0.58952337  0.4262756 ]\n",
      "[11.3805357   0.9949164   1.24628798]\n",
      "[-2.8683779   0.08609133  1.62724221]\n"
     ]
    },
    {
     "name": "stderr",
     "output_type": "stream",
     "text": [
      "/var/folders/3l/32m97f2n2cx347g5721npvk80000gq/T/ipykernel_2724/249694847.py:204: RuntimeWarning: covariance is not symmetric positive-semidefinite.\n",
      "  noise=self.rng.multivariate_normal(np.zeros(correlated_effect.shape[1]), matrix, X.shape[0])\n"
     ]
    },
    {
     "name": "stdout",
     "output_type": "stream",
     "text": [
      "[ 0.76438792 -1.00386949  2.02845363]\n",
      "[ 1.20328    3.7976393 12.2398122]\n",
      "[10.42919648 17.58759471  7.80833062]\n",
      "[-2.86299838 -4.03812852 -4.77084549]\n",
      "[ 0.85765377 -7.70709567 -5.67452229]\n"
     ]
    },
    {
     "name": "stderr",
     "output_type": "stream",
     "text": [
      "/var/folders/3l/32m97f2n2cx347g5721npvk80000gq/T/ipykernel_2724/249694847.py:204: RuntimeWarning: covariance is not symmetric positive-semidefinite.\n",
      "  noise=self.rng.multivariate_normal(np.zeros(correlated_effect.shape[1]), matrix, X.shape[0])\n"
     ]
    },
    {
     "name": "stdout",
     "output_type": "stream",
     "text": [
      "[ -6.26580877  -5.50229963 -12.00565041]\n",
      "[-0.37420249 -0.53897254 -3.07797285]\n",
      "[7.83329154 5.86530378 3.0971004 ]\n",
      "[4.15312382 0.12577631 1.00908937]\n",
      "[-1.53913594 -3.15280639  0.32805631]\n"
     ]
    },
    {
     "name": "stderr",
     "output_type": "stream",
     "text": [
      "/var/folders/3l/32m97f2n2cx347g5721npvk80000gq/T/ipykernel_2724/249694847.py:204: RuntimeWarning: covariance is not symmetric positive-semidefinite.\n",
      "  noise=self.rng.multivariate_normal(np.zeros(correlated_effect.shape[1]), matrix, X.shape[0])\n"
     ]
    },
    {
     "name": "stdout",
     "output_type": "stream",
     "text": [
      "[ 2.43251534 -2.85331932 -6.17041788]\n",
      "[ -3.69129286  -7.37083521 -12.82602728]\n",
      "[ 3.52321417 -2.56234393 -4.40199041]\n",
      "[-1.54904376 -1.78539579 -4.18151069]\n",
      "[-3.21438293 -3.56501443  2.59620831]\n"
     ]
    },
    {
     "name": "stderr",
     "output_type": "stream",
     "text": [
      "/var/folders/3l/32m97f2n2cx347g5721npvk80000gq/T/ipykernel_2724/249694847.py:204: RuntimeWarning: covariance is not symmetric positive-semidefinite.\n",
      "  noise=self.rng.multivariate_normal(np.zeros(correlated_effect.shape[1]), matrix, X.shape[0])\n"
     ]
    },
    {
     "name": "stdout",
     "output_type": "stream",
     "text": [
      "[-9.07481083 -3.13658397 -5.05529975]\n",
      "[7.18376007 4.97908076 6.31363483]\n",
      "[-2.42101003 -6.16587972 -8.99960457]\n",
      "[ 9.12349509  9.12993725 11.43067165]\n",
      "[-1.73991293 -6.25065279 -2.99153592]\n"
     ]
    },
    {
     "name": "stderr",
     "output_type": "stream",
     "text": [
      "/var/folders/3l/32m97f2n2cx347g5721npvk80000gq/T/ipykernel_2724/249694847.py:204: RuntimeWarning: covariance is not symmetric positive-semidefinite.\n",
      "  noise=self.rng.multivariate_normal(np.zeros(correlated_effect.shape[1]), matrix, X.shape[0])\n"
     ]
    },
    {
     "name": "stdout",
     "output_type": "stream",
     "text": [
      "[14.81060775  5.67217873  6.47961696]\n",
      "[-6.33049207  0.90261404 -0.4915069 ]\n",
      "[ -4.32805856 -11.08044427  -4.17415651]\n",
      "[ -4.49207011 -12.58032162  -3.79621336]\n",
      "[-9.01019526 -7.43292193 -2.04583507]\n"
     ]
    },
    {
     "name": "stderr",
     "output_type": "stream",
     "text": [
      "/var/folders/3l/32m97f2n2cx347g5721npvk80000gq/T/ipykernel_2724/249694847.py:204: RuntimeWarning: covariance is not symmetric positive-semidefinite.\n",
      "  noise=self.rng.multivariate_normal(np.zeros(correlated_effect.shape[1]), matrix, X.shape[0])\n"
     ]
    },
    {
     "name": "stdout",
     "output_type": "stream",
     "text": [
      "[-6.44960541 -6.66873156 -8.70292292]\n",
      "[-1.59977326  1.29033825  4.15550247]\n",
      "[-10.40299226  -2.80317746  -2.29996969]\n",
      "[ 1.0862912  -6.4399832   3.43930556]\n",
      "[-4.29678467  2.32646346 -2.01772489]\n"
     ]
    },
    {
     "name": "stderr",
     "output_type": "stream",
     "text": [
      "/var/folders/3l/32m97f2n2cx347g5721npvk80000gq/T/ipykernel_2724/249694847.py:204: RuntimeWarning: covariance is not symmetric positive-semidefinite.\n",
      "  noise=self.rng.multivariate_normal(np.zeros(correlated_effect.shape[1]), matrix, X.shape[0])\n"
     ]
    },
    {
     "name": "stdout",
     "output_type": "stream",
     "text": [
      "[-11.79277056  -3.4775556   -4.70785525]\n",
      "[6.69911293 8.8826732  3.8685902 ]\n",
      "[0.63304243 1.9548775  7.03569377]\n",
      "[-3.0794702   2.44373643  0.18587311]\n",
      "[-5.64449374 -3.10847186 -7.48390508]\n"
     ]
    },
    {
     "name": "stderr",
     "output_type": "stream",
     "text": [
      "/var/folders/3l/32m97f2n2cx347g5721npvk80000gq/T/ipykernel_2724/249694847.py:204: RuntimeWarning: covariance is not symmetric positive-semidefinite.\n",
      "  noise=self.rng.multivariate_normal(np.zeros(correlated_effect.shape[1]), matrix, X.shape[0])\n"
     ]
    },
    {
     "name": "stdout",
     "output_type": "stream",
     "text": [
      "[ -8.59863056  -1.69283802 -14.48159693]\n",
      "[-15.03459628  -6.41118139  -2.46608747]\n",
      "[13.65352638  1.45221502  1.39542092]\n",
      "[ -5.33384352 -11.56793539  -5.70909132]\n",
      "[-3.46805477 -2.97754789  1.73657399]\n"
     ]
    },
    {
     "name": "stderr",
     "output_type": "stream",
     "text": [
      "/var/folders/3l/32m97f2n2cx347g5721npvk80000gq/T/ipykernel_2724/249694847.py:204: RuntimeWarning: covariance is not symmetric positive-semidefinite.\n",
      "  noise=self.rng.multivariate_normal(np.zeros(correlated_effect.shape[1]), matrix, X.shape[0])\n"
     ]
    },
    {
     "name": "stdout",
     "output_type": "stream",
     "text": [
      "[9.40397285 7.45617021 4.76247604]\n",
      "[ 1.00585212  2.57863177 -7.52255874]\n",
      "[-0.28934682  2.8362456   6.74035012]\n",
      "[ 1.41759537  0.67188615 12.50519251]\n",
      "[-2.14124005  4.29548237  0.5290065 ]\n"
     ]
    },
    {
     "name": "stderr",
     "output_type": "stream",
     "text": [
      "/var/folders/3l/32m97f2n2cx347g5721npvk80000gq/T/ipykernel_2724/249694847.py:190: RuntimeWarning: covariance is not symmetric positive-semidefinite.\n",
      "  noise=self.rng.multivariate_normal(np.zeros(correlated_effect.shape[1]), matrix, X.shape[0])\n",
      "/var/folders/3l/32m97f2n2cx347g5721npvk80000gq/T/ipykernel_2724/249694847.py:204: RuntimeWarning: covariance is not symmetric positive-semidefinite.\n",
      "  noise=self.rng.multivariate_normal(np.zeros(correlated_effect.shape[1]), matrix, X.shape[0])\n"
     ]
    },
    {
     "name": "stdout",
     "output_type": "stream",
     "text": [
      "[ 1.59294666 -0.73214171 -0.441795  ]\n",
      "[0.59581352 1.80228884 0.86011074]\n",
      "[-0.25030061  0.96632984 -0.83121342]\n",
      "[-4.27235642 -1.16637695  0.74875676]\n",
      "[-0.263218   -1.64307125 -0.24386249]\n",
      "[-2.41847404 -2.01632882 -2.20575354]\n",
      "[2.1921532  2.83632768 1.91707449]\n",
      "[-3.61492079 -3.04834935 -3.87992813]\n",
      "[-2.09471274 -4.10243923 -0.56069446]\n",
      "[ 1.9023884  -0.67839281  4.1177745 ]\n",
      "[-1.8297173   1.39479938 -1.77462698]\n",
      "[-3.17521291 -2.64646347 -4.10768146]\n",
      "[ 0.03929767 -3.5904916  -0.57280771]\n",
      "[-5.18737294 -4.37605057 -6.41253251]\n",
      "[4.40727222 9.19429874 8.336328  ]\n"
     ]
    },
    {
     "name": "stderr",
     "output_type": "stream",
     "text": [
      "/var/folders/3l/32m97f2n2cx347g5721npvk80000gq/T/ipykernel_2724/249694847.py:190: RuntimeWarning: covariance is not symmetric positive-semidefinite.\n",
      "  noise=self.rng.multivariate_normal(np.zeros(correlated_effect.shape[1]), matrix, X.shape[0])\n",
      "/var/folders/3l/32m97f2n2cx347g5721npvk80000gq/T/ipykernel_2724/249694847.py:204: RuntimeWarning: covariance is not symmetric positive-semidefinite.\n",
      "  noise=self.rng.multivariate_normal(np.zeros(correlated_effect.shape[1]), matrix, X.shape[0])\n"
     ]
    },
    {
     "name": "stdout",
     "output_type": "stream",
     "text": [
      "[1.45501292 3.08855492 2.33295311]\n",
      "[-0.28484986  1.35629824  1.72118035]\n",
      "[ 1.01231639 -3.37493583 -0.90655367]\n",
      "[-0.90823837 -2.69532764 -1.30665297]\n",
      "[2.21941135 3.48736283 2.33945609]\n",
      "[-1.24401513  1.71481778  0.77910411]\n",
      "[-1.97726134 -0.19618871 -0.77108286]\n",
      "[-1.71749919 -2.09493255 -1.54150058]\n",
      "[-0.00446318  2.908591    0.76147834]\n",
      "[-0.23575572 -0.59769908 -0.97193707]\n",
      "[ 4.93772345 -0.09741797  1.34592079]\n",
      "[-4.07218324 -1.60363541 -2.46805354]\n",
      "[ -7.0318822  -10.17658115  -4.87331518]\n",
      "[1.83405629 7.45904256 2.30768843]\n",
      "[1.79924912 2.85351343 5.74952826]\n"
     ]
    },
    {
     "name": "stderr",
     "output_type": "stream",
     "text": [
      "/var/folders/3l/32m97f2n2cx347g5721npvk80000gq/T/ipykernel_2724/249694847.py:190: RuntimeWarning: covariance is not symmetric positive-semidefinite.\n",
      "  noise=self.rng.multivariate_normal(np.zeros(correlated_effect.shape[1]), matrix, X.shape[0])\n",
      "/var/folders/3l/32m97f2n2cx347g5721npvk80000gq/T/ipykernel_2724/249694847.py:204: RuntimeWarning: covariance is not symmetric positive-semidefinite.\n",
      "  noise=self.rng.multivariate_normal(np.zeros(correlated_effect.shape[1]), matrix, X.shape[0])\n"
     ]
    },
    {
     "name": "stdout",
     "output_type": "stream",
     "text": [
      "[-4.07787133 -4.3148287  -5.14815694]\n",
      "[-1.42222433 -0.73512662  0.55892431]\n",
      "[ 1.1192598  -3.64740103 -2.34786026]\n",
      "[-2.70583478 -1.40350826 -0.37765533]\n",
      "[-3.73032255 -5.90841606 -2.7913836 ]\n",
      "[-2.21113374 -2.85957658 -2.67152033]\n",
      "[ 1.69228961  0.59003525 -2.38392155]\n",
      "[-0.41825667 -0.54524503 -0.04094017]\n",
      "[-0.49317759 -0.91222696 -1.03103494]\n",
      "[-0.82686789 -0.31245236 -2.62887144]\n",
      "[-5.17494881 -7.03875325 -5.20640795]\n",
      "[-6.99522684 -4.43471646 -2.11098254]\n",
      "[-3.16881612 -4.70218748  1.74097498]\n",
      "[-4.21130358 -3.6630647  -7.25896037]\n",
      "[-3.04349613 -5.9703649  -3.60064393]\n"
     ]
    },
    {
     "name": "stderr",
     "output_type": "stream",
     "text": [
      "/var/folders/3l/32m97f2n2cx347g5721npvk80000gq/T/ipykernel_2724/249694847.py:190: RuntimeWarning: covariance is not symmetric positive-semidefinite.\n",
      "  noise=self.rng.multivariate_normal(np.zeros(correlated_effect.shape[1]), matrix, X.shape[0])\n",
      "/var/folders/3l/32m97f2n2cx347g5721npvk80000gq/T/ipykernel_2724/249694847.py:204: RuntimeWarning: covariance is not symmetric positive-semidefinite.\n",
      "  noise=self.rng.multivariate_normal(np.zeros(correlated_effect.shape[1]), matrix, X.shape[0])\n"
     ]
    },
    {
     "name": "stdout",
     "output_type": "stream",
     "text": [
      "[-0.5176057   1.3118597  -0.39270772]\n",
      "[-3.76805799 -1.65139775 -1.56335054]\n",
      "[-1.64863964 -1.84531207 -4.94104429]\n",
      "[0.75820329 1.06607503 2.50167131]\n",
      "[5.25633714 4.79451173 4.45429136]\n",
      "[1.37999226 2.1797161  0.16399764]\n",
      "[ 0.82362974  1.31973941 -0.63545848]\n",
      "[0.64503936 1.21924483 4.04892217]\n",
      "[-1.05078867 -0.76240436 -0.75517135]\n",
      "[-0.59764083 -0.15153466  0.77000913]\n",
      "[-5.58231492 -9.74700543 -3.88405986]\n",
      "[ 0.11875491  1.1081604  -2.87536716]\n",
      "[ 5.96706086  0.17752834 -1.3059301 ]\n",
      "[7.21039915 3.86258264 3.87048036]\n",
      "[6.83229506 6.52224994 6.04326243]\n"
     ]
    },
    {
     "name": "stderr",
     "output_type": "stream",
     "text": [
      "/var/folders/3l/32m97f2n2cx347g5721npvk80000gq/T/ipykernel_2724/249694847.py:190: RuntimeWarning: covariance is not symmetric positive-semidefinite.\n",
      "  noise=self.rng.multivariate_normal(np.zeros(correlated_effect.shape[1]), matrix, X.shape[0])\n",
      "/var/folders/3l/32m97f2n2cx347g5721npvk80000gq/T/ipykernel_2724/249694847.py:204: RuntimeWarning: covariance is not symmetric positive-semidefinite.\n",
      "  noise=self.rng.multivariate_normal(np.zeros(correlated_effect.shape[1]), matrix, X.shape[0])\n"
     ]
    },
    {
     "name": "stdout",
     "output_type": "stream",
     "text": [
      "[2.60158568 2.05611308 0.94781017]\n",
      "[ 2.29865176  2.25514854 -0.02485929]\n",
      "[ 0.7501036  -2.08998687 -1.40890749]\n",
      "[1.19619319 4.12937443 3.57990968]\n",
      "[0.29580922 2.59601477 0.63127726]\n",
      "[ 2.82422931 -1.62436596  4.41207574]\n",
      "[-1.32985619 -1.61859017  2.73451594]\n",
      "[ 0.76788954  0.05173492 -0.22798597]\n",
      "[-1.5816723  -1.00447114 -2.96882409]\n",
      "[-0.3105487  -1.01129532 -1.4041616 ]\n",
      "[ 5.44658065 10.09207339  3.20795938]\n",
      "[-6.24494424  1.90094193 -1.00178734]\n",
      "[-10.49314064  -5.99709229  -1.05825204]\n",
      "[-6.35935302 -7.97643338 -7.94187836]\n",
      "[-2.19246125 -1.0852203  -6.95601628]\n"
     ]
    },
    {
     "name": "stderr",
     "output_type": "stream",
     "text": [
      "/var/folders/3l/32m97f2n2cx347g5721npvk80000gq/T/ipykernel_2724/249694847.py:190: RuntimeWarning: covariance is not symmetric positive-semidefinite.\n",
      "  noise=self.rng.multivariate_normal(np.zeros(correlated_effect.shape[1]), matrix, X.shape[0])\n",
      "/var/folders/3l/32m97f2n2cx347g5721npvk80000gq/T/ipykernel_2724/249694847.py:204: RuntimeWarning: covariance is not symmetric positive-semidefinite.\n",
      "  noise=self.rng.multivariate_normal(np.zeros(correlated_effect.shape[1]), matrix, X.shape[0])\n"
     ]
    },
    {
     "name": "stdout",
     "output_type": "stream",
     "text": [
      "[2.66863829 1.09687317 2.69127121]\n",
      "[-3.64118327  0.36070488 -3.5949659 ]\n",
      "[1.68858915 2.40538996 4.22771479]\n",
      "[1.55366533 0.72665124 1.66053601]\n",
      "[-0.93193712  0.31606996 -0.47616896]\n",
      "[-3.61946292  0.44522247  0.22439548]\n",
      "[0.42632133 0.87676504 1.73729126]\n",
      "[-2.27524436  1.69604221 -0.42468792]\n",
      "[0.98047265 1.83170796 1.80236822]\n",
      "[3.10379841 2.84391418 2.40127512]\n",
      "[-6.15279505 -4.53157737 -5.16740072]\n",
      "[-3.60098593  2.33763762 -4.30127521]\n",
      "[11.51856211  3.43435026  2.90953311]\n",
      "[ 1.26028331 -0.8293758   3.35174758]\n",
      "[ 5.87460184 -0.20952657  8.77301724]\n"
     ]
    },
    {
     "name": "stderr",
     "output_type": "stream",
     "text": [
      "/var/folders/3l/32m97f2n2cx347g5721npvk80000gq/T/ipykernel_2724/249694847.py:190: RuntimeWarning: covariance is not symmetric positive-semidefinite.\n",
      "  noise=self.rng.multivariate_normal(np.zeros(correlated_effect.shape[1]), matrix, X.shape[0])\n",
      "/var/folders/3l/32m97f2n2cx347g5721npvk80000gq/T/ipykernel_2724/249694847.py:204: RuntimeWarning: covariance is not symmetric positive-semidefinite.\n",
      "  noise=self.rng.multivariate_normal(np.zeros(correlated_effect.shape[1]), matrix, X.shape[0])\n"
     ]
    },
    {
     "name": "stdout",
     "output_type": "stream",
     "text": [
      "[1.24036472 1.28948927 0.06792485]\n",
      "[0.47871317 1.79668784 0.50404575]\n",
      "[-0.57103733  0.64668755 -0.73279296]\n",
      "[-1.44373581 -0.33764604  0.38124622]\n",
      "[0.44815084 1.52261628 0.37447504]\n",
      "[ 1.33816097  0.24417951 -0.33829566]\n",
      "[ 0.44187863 -2.08725859 -1.26960148]\n",
      "[-0.20736483 -0.88970952 -0.7358515 ]\n",
      "[3.02905892 1.75918032 0.2950182 ]\n",
      "[-1.91436525  0.19351923 -0.93086075]\n",
      "[0.15957218 4.93487177 2.48276312]\n",
      "[ 0.64158703  3.51211908 -1.7452966 ]\n",
      "[ 1.36501182 -3.50526416 -1.85948908]\n",
      "[ 3.05196113 -3.48648356 -1.99048718]\n",
      "[-1.74726617 -3.64481497 -0.66732564]\n"
     ]
    },
    {
     "name": "stderr",
     "output_type": "stream",
     "text": [
      "/var/folders/3l/32m97f2n2cx347g5721npvk80000gq/T/ipykernel_2724/249694847.py:190: RuntimeWarning: covariance is not symmetric positive-semidefinite.\n",
      "  noise=self.rng.multivariate_normal(np.zeros(correlated_effect.shape[1]), matrix, X.shape[0])\n",
      "/var/folders/3l/32m97f2n2cx347g5721npvk80000gq/T/ipykernel_2724/249694847.py:204: RuntimeWarning: covariance is not symmetric positive-semidefinite.\n",
      "  noise=self.rng.multivariate_normal(np.zeros(correlated_effect.shape[1]), matrix, X.shape[0])\n"
     ]
    },
    {
     "name": "stdout",
     "output_type": "stream",
     "text": [
      "[0.68966159 1.42779147 0.79864696]\n",
      "[ 0.74476081 -0.90111889 -1.28203247]\n",
      "[3.22626272 1.63760698 2.21975558]\n",
      "[-2.34995751  0.15935785  0.09724002]\n",
      "[ 1.37155958  0.34905277 -2.35568661]\n",
      "[-4.18034857 -3.61252501 -4.12505129]\n",
      "[-0.50804651  0.06755786  1.43029143]\n",
      "[ 0.17991307 -0.25528698 -0.37309544]\n",
      "[-1.43798149 -0.46201835 -0.47966442]\n",
      "[-1.98507475 -1.14348923 -0.97206316]\n",
      "[-3.25633938 -2.2438405  -0.92517469]\n",
      "[1.04228198 3.97192138 1.99614641]\n",
      "[-0.39991059  0.678357   -1.0302424 ]\n",
      "[-7.91165898 -6.95370342 -4.5524418 ]\n",
      "[1.42064616 2.52947412 3.20430911]\n"
     ]
    },
    {
     "name": "stderr",
     "output_type": "stream",
     "text": [
      "/var/folders/3l/32m97f2n2cx347g5721npvk80000gq/T/ipykernel_2724/249694847.py:190: RuntimeWarning: covariance is not symmetric positive-semidefinite.\n",
      "  noise=self.rng.multivariate_normal(np.zeros(correlated_effect.shape[1]), matrix, X.shape[0])\n",
      "/var/folders/3l/32m97f2n2cx347g5721npvk80000gq/T/ipykernel_2724/249694847.py:204: RuntimeWarning: covariance is not symmetric positive-semidefinite.\n",
      "  noise=self.rng.multivariate_normal(np.zeros(correlated_effect.shape[1]), matrix, X.shape[0])\n"
     ]
    },
    {
     "name": "stdout",
     "output_type": "stream",
     "text": [
      "[ 0.51592838 -0.16957682  1.87117526]\n",
      "[-0.24430141 -0.28800467 -0.1565033 ]\n",
      "[-0.61149797 -0.3382591  -0.09462816]\n",
      "[-0.8980202  -2.21785326 -0.18615991]\n",
      "[1.64444392 3.11562409 2.84984126]\n",
      "[-2.10298259 -0.87191148  0.86522109]\n",
      "[-1.42848628 -1.60527763 -3.29261825]\n",
      "[-0.28550962  3.39510378 -0.12349805]\n",
      "[-0.97924008 -1.45505132 -0.45803741]\n",
      "[-2.25058041  2.0259073   1.63281169]\n",
      "[6.18937445 2.95422827 2.12960478]\n",
      "[-0.84219295  0.16172345 -1.69084504]\n",
      "[ 7.69960394  5.85884712 -6.54498419]\n",
      "[-7.5717361  -6.80153517 -6.58492381]\n",
      "[ 4.46817097  4.66622527 -5.11641686]\n"
     ]
    },
    {
     "name": "stderr",
     "output_type": "stream",
     "text": [
      "/var/folders/3l/32m97f2n2cx347g5721npvk80000gq/T/ipykernel_2724/249694847.py:190: RuntimeWarning: covariance is not symmetric positive-semidefinite.\n",
      "  noise=self.rng.multivariate_normal(np.zeros(correlated_effect.shape[1]), matrix, X.shape[0])\n",
      "/var/folders/3l/32m97f2n2cx347g5721npvk80000gq/T/ipykernel_2724/249694847.py:204: RuntimeWarning: covariance is not symmetric positive-semidefinite.\n",
      "  noise=self.rng.multivariate_normal(np.zeros(correlated_effect.shape[1]), matrix, X.shape[0])\n"
     ]
    },
    {
     "name": "stdout",
     "output_type": "stream",
     "text": [
      "[-0.35561285  3.10312301  0.95438831]\n",
      "[1.83878844 5.27964047 4.00521233]\n",
      "[ 0.21758661 -1.14069549  2.17973026]\n",
      "[-2.01619146  0.18689084 -2.12090355]\n",
      "[-1.85205067 -2.49717149 -0.94850404]\n",
      "[ 2.58511154 -1.49966799 -0.00312906]\n",
      "[ 0.00083952 -0.3204613   0.14168461]\n",
      "[-1.67041413 -1.38933917 -0.75075032]\n",
      "[-0.74684102  0.24296746  4.05521757]\n",
      "[-0.55361145  2.74859061  0.23941924]\n",
      "[ 5.0228763  -1.29838741 -3.07762443]\n",
      "[5.05750065 6.17628782 3.15475125]\n",
      "[ 0.46595686 -3.88077229  1.39256893]\n",
      "[5.67778021 2.76193026 2.83542872]\n",
      "[4.45531316 3.86336088 2.91874576]\n"
     ]
    },
    {
     "name": "stderr",
     "output_type": "stream",
     "text": [
      "/var/folders/3l/32m97f2n2cx347g5721npvk80000gq/T/ipykernel_2724/249694847.py:204: RuntimeWarning: covariance is not symmetric positive-semidefinite.\n",
      "  noise=self.rng.multivariate_normal(np.zeros(correlated_effect.shape[1]), matrix, X.shape[0])\n"
     ]
    },
    {
     "name": "stdout",
     "output_type": "stream",
     "text": [
      "[12.25411059  9.44452215  8.7864389 ]\n",
      "[-6.70571749  5.94151713  5.92836538]\n",
      "[1.87120948 7.93194696 2.57516177]\n",
      "[-4.16692103 -5.29120041 -4.92506052]\n",
      "[0.63289247 2.65042861 5.31326318]\n"
     ]
    },
    {
     "name": "stderr",
     "output_type": "stream",
     "text": [
      "/var/folders/3l/32m97f2n2cx347g5721npvk80000gq/T/ipykernel_2724/249694847.py:204: RuntimeWarning: covariance is not symmetric positive-semidefinite.\n",
      "  noise=self.rng.multivariate_normal(np.zeros(correlated_effect.shape[1]), matrix, X.shape[0])\n"
     ]
    },
    {
     "name": "stdout",
     "output_type": "stream",
     "text": [
      "[ 2.61182815 -5.96792183  2.47651242]\n",
      "[ 5.96867022 -0.84801003 -1.76854675]\n",
      "[ 3.28723186  2.6259958  -4.14066406]\n",
      "[ 0.06680684 -1.96888671 -2.72028824]\n",
      "[-5.66282484 -6.44862175 -6.5547617 ]\n"
     ]
    },
    {
     "name": "stderr",
     "output_type": "stream",
     "text": [
      "/var/folders/3l/32m97f2n2cx347g5721npvk80000gq/T/ipykernel_2724/249694847.py:204: RuntimeWarning: covariance is not symmetric positive-semidefinite.\n",
      "  noise=self.rng.multivariate_normal(np.zeros(correlated_effect.shape[1]), matrix, X.shape[0])\n"
     ]
    },
    {
     "name": "stdout",
     "output_type": "stream",
     "text": [
      "[ 4.97520727 -1.78915155 -1.30181838]\n",
      "[15.20087264 -4.00326991  2.76795533]\n",
      "[-0.21988404  4.51061183  0.63980215]\n",
      "[11.10356198 14.42680651  9.52319202]\n",
      "[ 9.21663789  3.53340519 -5.54502482]\n"
     ]
    },
    {
     "name": "stderr",
     "output_type": "stream",
     "text": [
      "/var/folders/3l/32m97f2n2cx347g5721npvk80000gq/T/ipykernel_2724/249694847.py:204: RuntimeWarning: covariance is not symmetric positive-semidefinite.\n",
      "  noise=self.rng.multivariate_normal(np.zeros(correlated_effect.shape[1]), matrix, X.shape[0])\n"
     ]
    },
    {
     "name": "stdout",
     "output_type": "stream",
     "text": [
      "[-0.84588669  2.34724817  1.06427159]\n",
      "[-10.9205064  -13.14544261 -13.35260637]\n",
      "[-15.26598982  -5.00250052 -10.38403991]\n",
      "[-4.49429251 -0.85207365 -5.21850534]\n",
      "[ -9.97984941   2.42036631 -10.79405071]\n"
     ]
    },
    {
     "name": "stderr",
     "output_type": "stream",
     "text": [
      "/var/folders/3l/32m97f2n2cx347g5721npvk80000gq/T/ipykernel_2724/249694847.py:204: RuntimeWarning: covariance is not symmetric positive-semidefinite.\n",
      "  noise=self.rng.multivariate_normal(np.zeros(correlated_effect.shape[1]), matrix, X.shape[0])\n"
     ]
    },
    {
     "name": "stdout",
     "output_type": "stream",
     "text": [
      "[ -5.00374603 -11.34821391  -7.70019719]\n",
      "[-1.87901254  2.27485594  5.26025026]\n",
      "[-4.14202538 -5.18896347 -8.3414159 ]\n",
      "[ 0.49464161  2.73637152 -0.10493068]\n",
      "[-6.76062409 -8.21085398  3.98610296]\n"
     ]
    },
    {
     "name": "stderr",
     "output_type": "stream",
     "text": [
      "/var/folders/3l/32m97f2n2cx347g5721npvk80000gq/T/ipykernel_2724/249694847.py:204: RuntimeWarning: covariance is not symmetric positive-semidefinite.\n",
      "  noise=self.rng.multivariate_normal(np.zeros(correlated_effect.shape[1]), matrix, X.shape[0])\n"
     ]
    },
    {
     "name": "stdout",
     "output_type": "stream",
     "text": [
      "[7.25872364 9.40183706 4.00122401]\n",
      "[-1.75843989 -6.17091983 -2.1449646 ]\n",
      "[ 3.89157481  5.21216947 -9.28346589]\n",
      "[-7.49402683 -5.24618779 -0.68517147]\n",
      "[3.25845432 2.47939203 5.75029377]\n"
     ]
    },
    {
     "name": "stderr",
     "output_type": "stream",
     "text": [
      "/var/folders/3l/32m97f2n2cx347g5721npvk80000gq/T/ipykernel_2724/249694847.py:204: RuntimeWarning: covariance is not symmetric positive-semidefinite.\n",
      "  noise=self.rng.multivariate_normal(np.zeros(correlated_effect.shape[1]), matrix, X.shape[0])\n"
     ]
    },
    {
     "name": "stdout",
     "output_type": "stream",
     "text": [
      "[ 5.032426   11.89092169  4.97716957]\n",
      "[ 2.6955998  -4.27596482 -1.39913442]\n",
      "[-5.16934913 -6.31110702 -9.08240707]\n",
      "[-10.31879121  -5.77559635  -2.52054563]\n",
      "[ -3.22872855   1.0912871  -10.6477651 ]\n"
     ]
    },
    {
     "name": "stderr",
     "output_type": "stream",
     "text": [
      "/var/folders/3l/32m97f2n2cx347g5721npvk80000gq/T/ipykernel_2724/249694847.py:204: RuntimeWarning: covariance is not symmetric positive-semidefinite.\n",
      "  noise=self.rng.multivariate_normal(np.zeros(correlated_effect.shape[1]), matrix, X.shape[0])\n"
     ]
    },
    {
     "name": "stdout",
     "output_type": "stream",
     "text": [
      "[ 7.16105479  7.35407927 -1.60690801]\n",
      "[-11.36456738  -8.32902125  -7.90249728]\n",
      "[-3.43653904 -2.67706132 -7.22626884]\n",
      "[ 9.12894657  9.11264047 12.79944646]\n",
      "[-7.31582104 -1.46633304  2.651188  ]\n"
     ]
    },
    {
     "name": "stderr",
     "output_type": "stream",
     "text": [
      "/var/folders/3l/32m97f2n2cx347g5721npvk80000gq/T/ipykernel_2724/249694847.py:204: RuntimeWarning: covariance is not symmetric positive-semidefinite.\n",
      "  noise=self.rng.multivariate_normal(np.zeros(correlated_effect.shape[1]), matrix, X.shape[0])\n"
     ]
    },
    {
     "name": "stdout",
     "output_type": "stream",
     "text": [
      "[ 2.99324065 -8.57521782 -1.71183743]\n",
      "[-8.43290719  0.83262268 -0.13164932]\n",
      "[ -1.48835375  -3.19457745 -13.62335191]\n",
      "[3.10817459 0.69593792 2.5123709 ]\n",
      "[-3.10561858 -8.28024792 -8.30186027]\n"
     ]
    },
    {
     "name": "stderr",
     "output_type": "stream",
     "text": [
      "/var/folders/3l/32m97f2n2cx347g5721npvk80000gq/T/ipykernel_2724/249694847.py:204: RuntimeWarning: covariance is not symmetric positive-semidefinite.\n",
      "  noise=self.rng.multivariate_normal(np.zeros(correlated_effect.shape[1]), matrix, X.shape[0])\n"
     ]
    },
    {
     "name": "stdout",
     "output_type": "stream",
     "text": [
      "[3.92772677 4.21293248 2.09837874]\n",
      "[-8.59110025  4.48633133  0.09424289]\n",
      "[-9.11681674e-03  5.48146212e-01  1.08680711e+01]\n",
      "[4.45630682 3.60480299 2.61941042]\n",
      "[6.07327618 4.93655819 1.25502244]\n"
     ]
    },
    {
     "name": "stderr",
     "output_type": "stream",
     "text": [
      "/var/folders/3l/32m97f2n2cx347g5721npvk80000gq/T/ipykernel_2724/249694847.py:190: RuntimeWarning: covariance is not symmetric positive-semidefinite.\n",
      "  noise=self.rng.multivariate_normal(np.zeros(correlated_effect.shape[1]), matrix, X.shape[0])\n",
      "/var/folders/3l/32m97f2n2cx347g5721npvk80000gq/T/ipykernel_2724/249694847.py:204: RuntimeWarning: covariance is not symmetric positive-semidefinite.\n",
      "  noise=self.rng.multivariate_normal(np.zeros(correlated_effect.shape[1]), matrix, X.shape[0])\n"
     ]
    },
    {
     "name": "stdout",
     "output_type": "stream",
     "text": [
      "[-1.2625425  -4.41968612 -2.02494992]\n",
      "[ 1.67393754  0.50391328 -0.86838216]\n",
      "[-0.22929491 -2.56198173 -2.01746676]\n",
      "[ 1.1444309   1.6808249  -1.64517003]\n",
      "[ 1.26906975 -1.47683794  1.45897322]\n",
      "[-3.00943852 -1.55252694 -2.56656413]\n",
      "[-1.234482   -1.01436979  0.87137075]\n",
      "[1.95681034 1.73658663 0.58149374]\n",
      "[-1.20611193 -0.28304718  0.19435729]\n",
      "[2.33849111 1.37310026 5.08613599]\n",
      "[10.55629532  7.37000242  9.77682598]\n",
      "[-0.48000061 -1.22741607 -2.91669912]\n",
      "[ 2.22555359  1.22538852 -2.94236245]\n",
      "[ 0.03855163 -0.63468201  1.38101639]\n",
      "[ -3.13060211  -5.98185946 -10.17630341]\n"
     ]
    },
    {
     "name": "stderr",
     "output_type": "stream",
     "text": [
      "/var/folders/3l/32m97f2n2cx347g5721npvk80000gq/T/ipykernel_2724/249694847.py:190: RuntimeWarning: covariance is not symmetric positive-semidefinite.\n",
      "  noise=self.rng.multivariate_normal(np.zeros(correlated_effect.shape[1]), matrix, X.shape[0])\n",
      "/var/folders/3l/32m97f2n2cx347g5721npvk80000gq/T/ipykernel_2724/249694847.py:204: RuntimeWarning: covariance is not symmetric positive-semidefinite.\n",
      "  noise=self.rng.multivariate_normal(np.zeros(correlated_effect.shape[1]), matrix, X.shape[0])\n"
     ]
    },
    {
     "name": "stdout",
     "output_type": "stream",
     "text": [
      "[-1.13947501 -5.54930504 -5.58934117]\n",
      "[-1.34265294 -2.00546822 -0.97380113]\n",
      "[1.74703831 1.57388458 2.21306672]\n",
      "[ 0.32964679 -0.05422493 -0.431148  ]\n",
      "[2.71781405 1.0206883  2.98921294]\n",
      "[1.98658233 1.82783834 1.36012295]\n",
      "[0.19192066 0.27211112 0.73183799]\n",
      "[-1.5227257  -3.30600198 -1.82096753]\n",
      "[-0.85248363 -1.01357178 -1.39333458]\n",
      "[0.6383377  0.4603185  0.77569778]\n",
      "[0.41935006 0.80740887 1.06774555]\n",
      "[8.56420083 8.1002154  0.26821364]\n",
      "[-2.3806833  -2.11888986  4.0358854 ]\n",
      "[-2.81415371  3.22720873 -0.87397607]\n",
      "[-7.20912938 -3.09482831 -8.10366986]\n"
     ]
    },
    {
     "name": "stderr",
     "output_type": "stream",
     "text": [
      "/var/folders/3l/32m97f2n2cx347g5721npvk80000gq/T/ipykernel_2724/249694847.py:190: RuntimeWarning: covariance is not symmetric positive-semidefinite.\n",
      "  noise=self.rng.multivariate_normal(np.zeros(correlated_effect.shape[1]), matrix, X.shape[0])\n",
      "/var/folders/3l/32m97f2n2cx347g5721npvk80000gq/T/ipykernel_2724/249694847.py:204: RuntimeWarning: covariance is not symmetric positive-semidefinite.\n",
      "  noise=self.rng.multivariate_normal(np.zeros(correlated_effect.shape[1]), matrix, X.shape[0])\n"
     ]
    },
    {
     "name": "stdout",
     "output_type": "stream",
     "text": [
      "[-0.85692848 -1.8428148  -1.47064484]\n",
      "[-3.54986679 -3.87026894 -5.83082145]\n",
      "[4.60707069 5.23058953 3.88370814]\n",
      "[-3.13081486 -5.22133579 -2.04014566]\n",
      "[-0.91672176 -4.17760402 -1.89615189]\n",
      "[-0.16829914 -0.71060888  1.88911837]\n",
      "[-2.09483192 -5.77037331 -2.06610363]\n",
      "[2.22859514 2.44980264 1.32652755]\n",
      "[0.56719086 1.20999494 2.47741147]\n",
      "[-3.40068159 -1.48926267 -4.56502321]\n",
      "[-1.04343448 -1.41489311 -3.98329205]\n",
      "[1.90524749 4.63151972 7.60268741]\n",
      "[ 1.95460869  3.93705681 -1.74007496]\n",
      "[12.54739715  1.80769917  6.54962196]\n",
      "[-2.94290382 -2.45858784 -4.10624082]\n"
     ]
    },
    {
     "name": "stderr",
     "output_type": "stream",
     "text": [
      "/var/folders/3l/32m97f2n2cx347g5721npvk80000gq/T/ipykernel_2724/249694847.py:190: RuntimeWarning: covariance is not symmetric positive-semidefinite.\n",
      "  noise=self.rng.multivariate_normal(np.zeros(correlated_effect.shape[1]), matrix, X.shape[0])\n",
      "/var/folders/3l/32m97f2n2cx347g5721npvk80000gq/T/ipykernel_2724/249694847.py:204: RuntimeWarning: covariance is not symmetric positive-semidefinite.\n",
      "  noise=self.rng.multivariate_normal(np.zeros(correlated_effect.shape[1]), matrix, X.shape[0])\n"
     ]
    },
    {
     "name": "stdout",
     "output_type": "stream",
     "text": [
      "[-5.75531123 -6.57652342 -4.9278979 ]\n",
      "[1.50746537 1.85893774 1.78268248]\n",
      "[3.37406958 2.72174772 2.44468636]\n",
      "[1.97829265 4.65571394 2.90840136]\n",
      "[0.89849168 4.02005897 1.64690949]\n",
      "[ 0.06972656 -2.95438277  0.35067615]\n",
      "[-2.13255969 -3.02649527 -1.87887079]\n",
      "[ 0.57747073 -1.95515514  1.06276869]\n",
      "[ 0.69589525 -1.93019319  0.72621542]\n",
      "[-1.97989988 -2.15811843 -1.78773341]\n",
      "[-0.41455207  4.89261799 -0.96243334]\n",
      "[ 0.41578941 -5.57253777 -1.98000958]\n",
      "[-5.23474962 -1.78735081 -3.53227876]\n",
      "[ 0.81179316 -1.91754236  1.4616349 ]\n",
      "[ 1.36135332 -5.21526707 -0.12159275]\n"
     ]
    },
    {
     "name": "stderr",
     "output_type": "stream",
     "text": [
      "/var/folders/3l/32m97f2n2cx347g5721npvk80000gq/T/ipykernel_2724/249694847.py:190: RuntimeWarning: covariance is not symmetric positive-semidefinite.\n",
      "  noise=self.rng.multivariate_normal(np.zeros(correlated_effect.shape[1]), matrix, X.shape[0])\n",
      "/var/folders/3l/32m97f2n2cx347g5721npvk80000gq/T/ipykernel_2724/249694847.py:204: RuntimeWarning: covariance is not symmetric positive-semidefinite.\n",
      "  noise=self.rng.multivariate_normal(np.zeros(correlated_effect.shape[1]), matrix, X.shape[0])\n"
     ]
    },
    {
     "name": "stdout",
     "output_type": "stream",
     "text": [
      "[-2.43217374 -2.92890184 -1.13639124]\n",
      "[-2.29150226 -0.52987862 -1.49168618]\n",
      "[-0.2057239  -0.93755599 -1.6453271 ]\n",
      "[-5.03106897 -3.30625463 -1.22773568]\n",
      "[1.40207142 1.00476551 0.78638096]\n",
      "[-0.01829703  1.00006335 -0.5337472 ]\n",
      "[3.8496325  2.43271731 0.77382294]\n",
      "[-0.38855999  0.37149773 -2.25070469]\n",
      "[-0.4842757   2.13828929  1.57251881]\n",
      "[ 1.08850483 -0.59946064 -1.43835782]\n",
      "[-11.38622713  -6.58860024  -2.53753086]\n",
      "[ 1.53680216 -5.47366956  1.22867252]\n",
      "[ 6.86468016 -0.77940137  1.39104267]\n",
      "[5.87060367 1.52340683 1.33855218]\n",
      "[-0.23516678 -6.19976407 -5.36099485]\n"
     ]
    },
    {
     "name": "stderr",
     "output_type": "stream",
     "text": [
      "/var/folders/3l/32m97f2n2cx347g5721npvk80000gq/T/ipykernel_2724/249694847.py:190: RuntimeWarning: covariance is not symmetric positive-semidefinite.\n",
      "  noise=self.rng.multivariate_normal(np.zeros(correlated_effect.shape[1]), matrix, X.shape[0])\n",
      "/var/folders/3l/32m97f2n2cx347g5721npvk80000gq/T/ipykernel_2724/249694847.py:204: RuntimeWarning: covariance is not symmetric positive-semidefinite.\n",
      "  noise=self.rng.multivariate_normal(np.zeros(correlated_effect.shape[1]), matrix, X.shape[0])\n"
     ]
    },
    {
     "name": "stdout",
     "output_type": "stream",
     "text": [
      "[ 1.24266699 -0.43298931  1.23522065]\n",
      "[ 0.41169645 -0.31899543 -1.38983012]\n",
      "[-2.24306406 -2.45318872 -1.05629122]\n",
      "[-3.30525201 -2.48499172  0.47699259]\n",
      "[ 1.32496108 -2.5802576   0.51944029]\n",
      "[0.20159879 1.31413691 0.78669055]\n",
      "[-2.26850013 -1.7763476  -1.62539485]\n",
      "[-3.02381419 -2.08446343 -1.91133603]\n",
      "[-1.44582493  1.95155597 -0.8695538 ]\n",
      "[-3.37380363 -3.12471619 -3.28658896]\n",
      "[ 3.99420482  4.40984739 -3.15551484]\n",
      "[ -5.53656492  -3.797981   -11.17815919]\n",
      "[ 3.01074936  6.12227875 -0.60561998]\n",
      "[-2.67865578 -1.89781123 -1.95502235]\n",
      "[-2.94969817 -1.60302047 -0.84564094]\n"
     ]
    },
    {
     "name": "stderr",
     "output_type": "stream",
     "text": [
      "/var/folders/3l/32m97f2n2cx347g5721npvk80000gq/T/ipykernel_2724/249694847.py:190: RuntimeWarning: covariance is not symmetric positive-semidefinite.\n",
      "  noise=self.rng.multivariate_normal(np.zeros(correlated_effect.shape[1]), matrix, X.shape[0])\n",
      "/var/folders/3l/32m97f2n2cx347g5721npvk80000gq/T/ipykernel_2724/249694847.py:204: RuntimeWarning: covariance is not symmetric positive-semidefinite.\n",
      "  noise=self.rng.multivariate_normal(np.zeros(correlated_effect.shape[1]), matrix, X.shape[0])\n"
     ]
    },
    {
     "name": "stdout",
     "output_type": "stream",
     "text": [
      "[-0.74899131  0.05274024  1.15352514]\n",
      "[6.14868228 3.31526887 0.65660732]\n",
      "[-0.36755448 -0.18174108  2.62714082]\n",
      "[-1.33352642  0.63316365 -0.50074429]\n",
      "[ 0.80674987  1.77451253 -1.15251791]\n",
      "[-3.4185024  -1.40948831 -1.93362307]\n",
      "[-2.29211452  1.1982578  -0.81830732]\n",
      "[-1.4159093  -1.50082174 -2.91996559]\n",
      "[2.49797067 4.10101891 1.1030603 ]\n",
      "[-3.52134278 -2.83997121 -4.04584301]\n",
      "[-0.55942342 -4.15806213  4.28388659]\n",
      "[ -3.05453003 -13.59075911  -6.81893636]\n",
      "[-4.39013716  1.95640902 -4.08699865]\n",
      "[-1.67251581 -7.66600689 -2.05272495]\n",
      "[ 0.06543488 -0.68984925 -2.63723135]\n"
     ]
    },
    {
     "name": "stderr",
     "output_type": "stream",
     "text": [
      "/var/folders/3l/32m97f2n2cx347g5721npvk80000gq/T/ipykernel_2724/249694847.py:190: RuntimeWarning: covariance is not symmetric positive-semidefinite.\n",
      "  noise=self.rng.multivariate_normal(np.zeros(correlated_effect.shape[1]), matrix, X.shape[0])\n",
      "/var/folders/3l/32m97f2n2cx347g5721npvk80000gq/T/ipykernel_2724/249694847.py:204: RuntimeWarning: covariance is not symmetric positive-semidefinite.\n",
      "  noise=self.rng.multivariate_normal(np.zeros(correlated_effect.shape[1]), matrix, X.shape[0])\n"
     ]
    },
    {
     "name": "stdout",
     "output_type": "stream",
     "text": [
      "[ 0.39678387  0.47202643 -5.70896573]\n",
      "[0.64444053 2.40755773 1.09741627]\n",
      "[-3.9165194  -2.08984793 -3.29559059]\n",
      "[ 0.92942632 -0.71257416 -0.14441345]\n",
      "[-2.84295618 -3.1177609  -0.93881361]\n",
      "[0.86399263 0.21219216 2.40618866]\n",
      "[-3.39125617 -1.18814534 -3.37458817]\n",
      "[-2.09387041 -1.32396636 -0.18827428]\n",
      "[3.54786538 4.04670208 2.29225307]\n",
      "[2.32960632 4.16481268 3.33466884]\n",
      "[-4.31072218 -1.39896226 -0.60642563]\n",
      "[11.57156161  7.37552907  4.9388751 ]\n",
      "[-0.25512199  0.66510356  3.48967443]\n",
      "[0.99812208 0.12449529 0.07519285]\n",
      "[-4.94784387 -5.30798407 -2.5732683 ]\n"
     ]
    },
    {
     "name": "stderr",
     "output_type": "stream",
     "text": [
      "/var/folders/3l/32m97f2n2cx347g5721npvk80000gq/T/ipykernel_2724/249694847.py:190: RuntimeWarning: covariance is not symmetric positive-semidefinite.\n",
      "  noise=self.rng.multivariate_normal(np.zeros(correlated_effect.shape[1]), matrix, X.shape[0])\n",
      "/var/folders/3l/32m97f2n2cx347g5721npvk80000gq/T/ipykernel_2724/249694847.py:204: RuntimeWarning: covariance is not symmetric positive-semidefinite.\n",
      "  noise=self.rng.multivariate_normal(np.zeros(correlated_effect.shape[1]), matrix, X.shape[0])\n"
     ]
    },
    {
     "name": "stdout",
     "output_type": "stream",
     "text": [
      "[0.97800247 1.98013807 0.89003959]\n",
      "[-1.75386888 -2.49672406 -1.89212953]\n",
      "[ 0.56674731 -1.06925267 -0.96001151]\n",
      "[-2.10719664  0.29949507  1.77989748]\n",
      "[-4.53953277 -0.30707402  0.01653328]\n",
      "[ 0.09158656  1.23526744 -0.10264266]\n",
      "[-0.03510092 -0.73585777  0.33660194]\n",
      "[2.97997535 0.57039607 2.4275983 ]\n",
      "[2.33074502 3.0631194  1.78079629]\n",
      "[-1.53268237  0.47765    -2.22723869]\n",
      "[-5.00978051 -6.61888979  1.15281463]\n",
      "[-6.04247171 -2.97674696  4.82488302]\n",
      "[-5.69980799  2.069511    3.12408292]\n",
      "[-2.52242339 -4.08655326  1.28710378]\n",
      "[3.80019135 6.38958007 4.3031612 ]\n"
     ]
    },
    {
     "name": "stderr",
     "output_type": "stream",
     "text": [
      "/var/folders/3l/32m97f2n2cx347g5721npvk80000gq/T/ipykernel_2724/249694847.py:190: RuntimeWarning: covariance is not symmetric positive-semidefinite.\n",
      "  noise=self.rng.multivariate_normal(np.zeros(correlated_effect.shape[1]), matrix, X.shape[0])\n",
      "/var/folders/3l/32m97f2n2cx347g5721npvk80000gq/T/ipykernel_2724/249694847.py:204: RuntimeWarning: covariance is not symmetric positive-semidefinite.\n",
      "  noise=self.rng.multivariate_normal(np.zeros(correlated_effect.shape[1]), matrix, X.shape[0])\n"
     ]
    },
    {
     "name": "stdout",
     "output_type": "stream",
     "text": [
      "[-0.42939623 -4.05907017 -4.82391463]\n",
      "[ 0.36361009 -0.06427403  0.23249159]\n",
      "[5.88663201 3.06235274 5.4331525 ]\n",
      "[-1.74924833 -0.59856719 -1.86834702]\n",
      "[ 0.13620141 -0.46497608 -1.14791953]\n",
      "[-2.09350436 -3.85746097 -1.16832018]\n",
      "[-0.6378565  -0.87455407  0.08543451]\n",
      "[2.85775712 1.42792531 0.90511203]\n",
      "[ 0.33811056 -3.37223617  0.09175758]\n",
      "[-1.78736832 -0.35326331 -0.54225357]\n",
      "[ -9.51467126  -9.69908292 -10.74032706]\n",
      "[-2.94899368 -4.41411715 -0.06423002]\n",
      "[-15.26083357 -12.12208084 -13.78598703]\n",
      "[4.12678997 5.11549828 1.9856338 ]\n",
      "[-4.63260808  5.29369871  3.90106784]\n"
     ]
    }
   ],
   "source": [
    "genetic_simulator = GeneticSimulation()\n",
    "genetic_simulator.load_LD_sparse(\"ld_matrix.npz\")\n",
    "correlated_effect = np.array([\n",
    "                [0.15, 0.1, 0.2],\n",
    "                [0.2, 0.15, 0.1],\n",
    "                [0.15, 0.0, 0.0],\n",
    "                [0.0, 0.25, 0.0],\n",
    "                [0.0, 0.0, 0.25]\n",
    "            ])\n",
    "scenarios = [\n",
    "    {\"pleiotropy_prop\": 0, \"h2\": 0.1, \"num_datasets\": 10},\n",
    "    {\"pleiotropy_prop\": 0.5, \"h2\": 0.1, \"num_datasets\": 10},\n",
    "    {\"pleiotropy_prop\": 0, \"h2\": 0.5, \"num_datasets\": 10},\n",
    "    {\"pleiotropy_prop\": 0.5, \"h2\": 0.5, \"num_datasets\": 10}]\n",
    "all_results = []\n",
    "for scenario in scenarios:\n",
    "    model_results = genetic_simulator.run_scenario(\n",
    "        pleiotropy_prop=scenario[\"pleiotropy_prop\"],\n",
    "        h2=scenario[\"h2\"],\n",
    "        num_datasets=scenario[\"num_datasets\"],\n",
    "        parent_folder=\"PleioLin\"\n",
    "    )\n",
    "    all_results.extend(model_results)"
   ]
  },
  {
   "cell_type": "code",
   "execution_count": 228,
   "id": "f4863b88",
   "metadata": {},
   "outputs": [],
   "source": [
    "# Convert the list of dictionaries to a DataFrame\n",
    "results_df = pd.DataFrame(all_results)"
   ]
  },
  {
   "cell_type": "code",
   "execution_count": 206,
   "id": "1733e7f5",
   "metadata": {},
   "outputs": [
    {
     "data": {
      "text/plain": [
       "array([5632, 6551, 5420, 4816, 8759, 5203, 7374, 3980, 8067, 2848,  734,\n",
       "       7978, 9091, 5169, 6638, 4774, 3614, 1312, 5796, 6789, 6170, 4267,\n",
       "       3930, 1767, 4185, 8176,  776, 6586, 5230,  896, 8438, 8745,  927,\n",
       "       7412, 5208, 1316, 9052, 2673, 7418, 1816, 9594, 2815, 8308, 8670,\n",
       "       1166, 6228, 1045, 4273, 7415, 9421, 6275, 3783, 1171, 2818, 8705,\n",
       "       9555,  154, 7201, 7476, 5470, 7957, 1579, 6630, 4197, 3952, 6612,\n",
       "       2119, 6549, 4860, 8375, 6040, 2351, 6301, 5762, 9006, 3018, 5655,\n",
       "        519,  524, 8844, 7192, 2406, 6334,  102, 2679, 1983, 1752, 6402,\n",
       "       8681, 7416, 3567, 3150, 4460, 5573, 7953, 3626, 8435, 5755, 6259,\n",
       "       3410, 1598])"
      ]
     },
     "execution_count": 206,
     "metadata": {},
     "output_type": "execute_result"
    }
   ],
   "source": [
    "results_df.loc[3,\"Divided CV\"][0]"
   ]
  },
  {
   "cell_type": "code",
   "execution_count": 207,
   "id": "71a39cf2",
   "metadata": {},
   "outputs": [],
   "source": [
    "dtf = results_df.loc[3,\"Base Dataset\"]"
   ]
  },
  {
   "cell_type": "code",
   "execution_count": 208,
   "id": "67f1e6fe",
   "metadata": {},
   "outputs": [
    {
     "data": {
      "text/plain": [
       "Y_1   -2.266789\n",
       "Y_2   -0.870985\n",
       "Y_3   -0.743042\n",
       "X_1   -0.892950\n",
       "X_2   -1.163968\n",
       "X_3   -0.537272\n",
       "X_4    0.120413\n",
       "X_5    0.903453\n",
       "Name: 8844, dtype: float64"
      ]
     },
     "execution_count": 208,
     "metadata": {},
     "output_type": "execute_result"
    }
   ],
   "source": [
    "dtf.loc[8844,]"
   ]
  },
  {
   "cell_type": "code",
   "execution_count": 209,
   "id": "68b85437",
   "metadata": {},
   "outputs": [
    {
     "data": {
      "text/plain": [
       "-0.1339425"
      ]
     },
     "execution_count": 209,
     "metadata": {},
     "output_type": "execute_result"
    }
   ],
   "source": [
    "-0.892950*0.15"
   ]
  },
  {
   "cell_type": "code",
   "execution_count": 215,
   "id": "b8365a1c",
   "metadata": {},
   "outputs": [],
   "source": [
    "# # Split the DataFrame into chunks of \"num_datasets\" \n",
    "# chunk_size = 10\n",
    "# chunks = [results_df.iloc[i:i + chunk_size] for i in range(0, len(results_df), chunk_size)]\n",
    "\n",
    "# # Compute the average number of significant variants (length of lists) and average number of IVs for each chunk\n",
    "# avg_significant_variants = [np.mean([len((chunk['Causal Variants'].iloc[j])) for j in range(min(chunk_size, len(chunk)))]) for chunk in chunks]\n",
    "# avg_ivs = [len(chunk['IV Indices'].mean()) for chunk in chunks]\n",
    "\n",
    "# # Extract the IVs indices for Scenario 1 (index 0)\n",
    "# IVs_indices_S1 = results_df['IV Indices'].iloc[1]\n",
    "# # Extract the simulated dataset of effect sizes for Scenario 1 (index 0)\n",
    "# base_dataset_S1 = results_df['Base Dataset'].iloc[1]\n",
    "# # Keep only data for IVs\n",
    "# dataset_S1 = base_dataset_S1.iloc[IVs_indices_S1]"
   ]
  },
  {
   "cell_type": "markdown",
   "id": "0ea5d0f1",
   "metadata": {},
   "source": [
    "# MR 1 exposure 1 outcome"
   ]
  },
  {
   "cell_type": "code",
   "execution_count": 229,
   "id": "2c4a6b68",
   "metadata": {},
   "outputs": [
    {
     "name": "stdout",
     "output_type": "stream",
     "text": [
      "                                                   Y_1  \\\n",
      "X_1  [0.17497004875309785, -3.4157321679177315, 0.2...   \n",
      "X_2  [0.16243223942815374, 0.20707607175634957, 0.2...   \n",
      "X_3  [0.11341865864628232, 0.12883124062073192, 0.1...   \n",
      "X_4  [0.008549180489136301, 0.01944005229821852, 0....   \n",
      "X_5  [0.02561653069426929, -0.023700561052103247, -...   \n",
      "\n",
      "                                                   Y_2  \\\n",
      "X_1  [0.05436636610074647, -19.828156723772015, 0.1...   \n",
      "X_2  [0.10096256377585443, 0.1653096809207307, 0.17...   \n",
      "X_3  [-0.02666504674724733, -0.0029148030438079005,...   \n",
      "X_4  [0.27480165356674274, 0.3037994777637502, 0.23...   \n",
      "X_5  [0.02436859317832936, -0.013243476884690703, -...   \n",
      "\n",
      "                                                   Y_3  \n",
      "X_1  [0.2740804874500887, -4.5378798753067215, 0.23...  \n",
      "X_2  [0.06240131076098222, 0.09475305979008267, 0.1...  \n",
      "X_3  [-0.015039164839524175, -0.004500985202983664,...  \n",
      "X_4  [0.012890400276369429, 0.06765166811281159, -0...  \n",
      "X_5  [0.27341059307482396, 0.22437400708612032, 0.2...  \n"
     ]
    }
   ],
   "source": [
    "import pandas as pd\n",
    "import statsmodels.api as sm\n",
    "import pdb\n",
    "\n",
    "# Split the DataFrame into chunks of \"num_datasets\" \n",
    "chunk_size = 10\n",
    "scenar = 0\n",
    "chunk = results_df.iloc[chunk_size*scenar:chunk_size*(scenar+1),:]\n",
    "#chunks = [results_df.iloc[i:i + chunk_size] for i in range(0, len(results_df), chunk_size)]\n",
    "\n",
    "dataset = chunk.loc[chunk_size*scenar,\"Base Dataset\"]\n",
    "estimated_effects_matrix = pd.DataFrame(index=dataset.columns[3:], columns=outcomes.columns[:3])\n",
    "estimated_effects_matrix.iloc[:,:] = [[[] for i in range(3)] for j in range(5)]\n",
    "\n",
    "for dataset_index in range(chunk_size*scenar,chunk_size*(scenar+1)):\n",
    "    # Extract exposures and outcomes\n",
    "    dataset = chunk.loc[dataset_index,\"Base Dataset\"]\n",
    "    dict_IVs = chunk.loc[dataset_index,\"IV Indices\"]\n",
    "    exposures = dataset.iloc[:, 3:]  # Assuming exposures are in columns X_1 to X_5\n",
    "    outcomes = dataset.iloc[:, :3]   # Assuming outcomes are in columns Y_1, Y_2, Y_3\n",
    "\n",
    "    # Initialize a matrix to store estimated effects\n",
    "    num_exposures = exposures.shape[1]\n",
    "    num_outcomes = outcomes.shape[1]\n",
    "\n",
    "    # Fit OLS model for each pair of exposure and outcome\n",
    "\n",
    "    for outcome_column in outcomes.columns:\n",
    "        # pdb.set_trace()\n",
    "        for exposure_column in exposures.columns:\n",
    "            X = sm.add_constant(exposures.loc[dict_IVs[exposure_column],exposure_column])\n",
    "            y = outcomes.loc[dict_IVs[exposure_column],outcome_column]\n",
    "            if len(y) > 0:\n",
    "                model = sm.OLS(y, X).fit()\n",
    "                resultat = model.params.loc[exposure_column]\n",
    "            else:\n",
    "                resultat = None\n",
    "                print(\"None\",exposure_column,outcome_column)\n",
    "            # Store the estimated effect in the matrix\n",
    "            estimated_effects_matrix.at[exposure_column, outcome_column].append(resultat)\n",
    "            # estimated_effects_matrix.loc[:, outcome_column].append(model.params.loc[exposure_column])\n",
    "print(estimated_effects_matrix)\n",
    "\n",
    "# Print or use the estimated_effects_matrix as needed\n",
    "#print(estimated_effects_matrix)"
   ]
  },
  {
   "cell_type": "markdown",
   "id": "153cd95d",
   "metadata": {},
   "source": [
    "## Plot true effects vs estimated effects"
   ]
  },
  {
   "cell_type": "code",
   "execution_count": 230,
   "id": "6dd99347",
   "metadata": {},
   "outputs": [
    {
     "data": {
      "image/png": "[encoded data removed]",
      "text/plain": [
       "<Figure size 800x500 with 1 Axes>"
      ]
     },
     "metadata": {},
     "output_type": "display_data"
    },
    {
     "data": {
      "image/png": "[encoded data removed]",
      "text/plain": [
       "<Figure size 800x500 with 1 Axes>"
      ]
     },
     "metadata": {},
     "output_type": "display_data"
    },
    {
     "data": {
      "image/png": "[encoded data removed]",
      "text/plain": [
       "<Figure size 800x500 with 1 Axes>"
      ]
     },
     "metadata": {},
     "output_type": "display_data"
    }
   ],
   "source": [
    "import matplotlib.pyplot as plt\n",
    "\n",
    "# Number of exposures\n",
    "num_exposures = len(estimated_effects_matrix.index)\n",
    "\n",
    "# Define the exposure labels (X_1 to X_100)\n",
    "exposure_labels = [f'X_{i}' for i in range(1, num_exposures + 1)]\n",
    "\n",
    "# Define columns names of correlated_effect matrix\n",
    "correlated_effect = pd.DataFrame(correlated_effect).rename(columns = {0:'Y_1', 1: 'Y_2', 2: 'Y_3'})\n",
    "# Plot for each outcome\n",
    "for outcome_column in estimated_effects_matrix.columns:\n",
    "    # Extract estimated effects and true real estimates for the outcome\n",
    "    estimated_effects = estimated_effects_matrix[outcome_column]\n",
    "    true_real_estimates = correlated_effect[outcome_column]\n",
    "    \n",
    "    # Create a scatter plot with a larger x-axis\n",
    "    plt.figure(figsize=(8, 5))  # Adjust the figsize as needed\n",
    "    # pdb.set_trace()\n",
    "    for j in range(chunk_size):\n",
    "        serie = []\n",
    "        for i in range(5):\n",
    "            serie.append(estimated_effects.iloc[i][j])\n",
    "            #serie.append(estimated_effects_matrix.iloc[i,0][j])\n",
    "        plt.scatter(range(1, num_exposures + 1), serie) #  label='Estimated Effects'\n",
    "    plt.scatter(range(1, num_exposures + 1), true_real_estimates, label='True Real Estimates', marker='x')\n",
    "    \n",
    "    # Add labels and title\n",
    "    plt.xlabel('Exposures')\n",
    "    plt.ylabel('Effect_size')\n",
    "    plt.title(f'Estimated vs. True Real Estimates for Outcome {outcome_column}', fontsize = 15)\n",
    "    \n",
    "    # Set x-axis labels\n",
    "    plt.xticks(range(1, num_exposures + 1), exposure_labels, rotation=45)\n",
    "    #plt.ylim(-0.5,0.5)\n",
    "    \n",
    "    # Add gridlines\n",
    "    plt.grid(True, axis='y', linestyle='--', alpha=0.7)\n",
    "    \n",
    "    # Add legend\n",
    "    plt.legend(fontsize=14)\n",
    "    \n",
    "    # Show the plot\n",
    "    plt.show()"
   ]
  },
  {
   "cell_type": "code",
   "execution_count": 200,
   "id": "9fb6e723",
   "metadata": {},
   "outputs": [
    {
     "name": "stderr",
     "output_type": "stream",
     "text": [
      "/var/folders/3l/32m97f2n2cx347g5721npvk80000gq/T/ipykernel_2724/2913953789.py:2: RuntimeWarning: covariance is not symmetric positive-semidefinite.\n",
      "  noise=np.random.multivariate_normal(np.zeros(correlated_effect.shape[1]), matrix, X.shape[0])\n"
     ]
    }
   ],
   "source": [
    "matrix = np.random.uniform(low=0.1, high=0.5, size=(correlated_effect.shape[1], correlated_effect.shape[1]))\n",
    "noise=np.random.multivariate_normal(np.zeros(correlated_effect.shape[1]), matrix, X.shape[0])"
   ]
  },
  {
   "cell_type": "code",
   "execution_count": 201,
   "id": "a5b5eade",
   "metadata": {},
   "outputs": [
    {
     "data": {
      "text/plain": [
       "array([[ 0.2535041 ,  0.75489199,  0.64057539],\n",
       "       [ 1.4850583 ,  1.44830046,  1.00171868],\n",
       "       [-0.85036089, -0.39643916, -0.61618901],\n",
       "       [-0.7999473 , -2.07503094, -1.10362575],\n",
       "       [ 0.0604569 , -0.98452864, -0.49797914],\n",
       "       [-0.5877158 ,  0.02968386, -0.66646371]])"
      ]
     },
     "execution_count": 201,
     "metadata": {},
     "output_type": "execute_result"
    }
   ],
   "source": [
    "noise"
   ]
  },
  {
   "cell_type": "markdown",
   "id": "4bf861ec",
   "metadata": {},
   "source": [
    "# MR multi-exposures 1 outcome"
   ]
  },
  {
   "cell_type": "code",
   "execution_count": 8,
   "id": "bde79eb4",
   "metadata": {},
   "outputs": [
    {
     "name": "stdout",
     "output_type": "stream",
     "text": [
      "          Y_1       Y_2       Y_3\n",
      "X_1  0.092358  0.078946  0.102354\n",
      "X_2  0.113488  0.100572  0.051661\n",
      "X_3  0.197806  0.038683  0.107061\n",
      "X_4  0.093368  0.282254  0.060639\n",
      "X_5  0.015383  0.002345  0.286090\n"
     ]
    }
   ],
   "source": [
    "exposures = dataset_S1.iloc[:, 3:]  # Assuming exposures are in columns X_1 to X_5\n",
    "outcomes = dataset_S1.iloc[:, :3]   # Assuming outcomes are in columns Y_1, Y_2, Y_3\n",
    "\n",
    "# Initialize a matrix to store estimated effects\n",
    "num_exposures = exposures.shape[1]\n",
    "num_outcomes = outcomes.shape[1]\n",
    "estimated_effects_matrix = pd.DataFrame(index=exposures.columns, columns=outcomes.columns)\n",
    "\n",
    "# Fit OLS model for each outcome using all exposures\n",
    "for outcome_column in outcomes.columns:\n",
    "    X = sm.add_constant(exposures)  # Add a constant term for the intercept\n",
    "    y = outcomes[outcome_column]\n",
    "    model = sm.OLS(y, X).fit()\n",
    "\n",
    "    # Store the estimated effects for the current outcome, excluding the constant\n",
    "    estimated_effects_matrix[outcome_column] = model.params[1:]\n",
    "\n",
    "# Display the estimated effects matrix\n",
    "print(estimated_effects_matrix)\n"
   ]
  },
  {
   "cell_type": "markdown",
   "id": "179c9828",
   "metadata": {},
   "source": [
    "## Plot true effects vs estimated effects¶"
   ]
  },
  {
   "cell_type": "code",
   "execution_count": 9,
   "id": "5242ba0c",
   "metadata": {},
   "outputs": [
    {
     "name": "stderr",
     "output_type": "stream",
     "text": [
      "/Users/mario/anaconda3/lib/python3.11/site-packages/seaborn/axisgrid.py:118: UserWarning: The figure layout has changed to tight\n",
      "  self._figure.tight_layout(*args, **kwargs)\n",
      "/Users/mario/anaconda3/lib/python3.11/site-packages/seaborn/axisgrid.py:118: UserWarning: The figure layout has changed to tight\n",
      "  self._figure.tight_layout(*args, **kwargs)\n",
      "/var/folders/3l/32m97f2n2cx347g5721npvk80000gq/T/ipykernel_5084/3705737185.py:37: UserWarning: The figure layout has changed to tight\n",
      "  plt.tight_layout()\n"
     ]
    },
    {
     "data": {
      "image/png": "[encoded data removed]",
      "text/plain": [
       "<Figure size 1365.88x800 with 5 Axes>"
      ]
     },
     "metadata": {},
     "output_type": "display_data"
    }
   ],
   "source": [
    "import pandas as pd\n",
    "import numpy as np\n",
    "import seaborn as sns\n",
    "import matplotlib.pyplot as plt\n",
    "\n",
    "# Adjust correlated effect indices\n",
    "correlated_effect.index = [\"X_1\", \"X_2\", \"X_3\", \"X_4\", \"X_5\"]\n",
    "\n",
    "# Convert estimated_effects_matrix to a long format for plotting\n",
    "estimated_effects_long = estimated_effects_matrix.reset_index().melt(id_vars='index', var_name='Outcome', value_name='Estimated Effect')\n",
    "estimated_effects_long.rename(columns={'index': 'Exposure'}, inplace=True)\n",
    "\n",
    "# Convert correlated_effects to a long format\n",
    "correlated_effects_long = correlated_effect.reset_index().melt(id_vars='index', var_name='Outcome', value_name='True Effect')\n",
    "correlated_effects_long.rename(columns={'index': 'Exposure'}, inplace=True)\n",
    "\n",
    "# Merge the two DataFrames on Exposure and Outcome columns\n",
    "merged_effects = pd.merge(estimated_effects_long, correlated_effects_long, on=['Exposure', 'Outcome'])\n",
    "\n",
    "# Convert Exposure column to categorical for proper ordering in the plot\n",
    "merged_effects['Exposure'] = pd.Categorical(merged_effects['Exposure'], categories=exposure_labels, ordered=True)\n",
    "\n",
    "# Set seaborn style\n",
    "sns.set(style=\"whitegrid\")\n",
    "\n",
    "# Plotting\n",
    "g = sns.FacetGrid(merged_effects, col='Exposure', col_wrap=3, height=4, sharey=False)\n",
    "g.map_dataframe(sns.scatterplot, x='Outcome', y='Estimated Effect', marker='o', color='red', label='Estimated Effect')\n",
    "g.map_dataframe(sns.scatterplot, x='Outcome', y='True Effect', marker='x', color='blue', label='True Effect')\n",
    "g.add_legend()\n",
    "\n",
    "# Set axis labels and titles\n",
    "g.set_axis_labels(\"Outcome\", \"Effect Size\")\n",
    "g.set_titles(col_template=\"{col_name}\")\n",
    "\n",
    "# Adjust layout\n",
    "plt.tight_layout()\n",
    "plt.show()\n"
   ]
  },
  {
   "cell_type": "code",
   "execution_count": 10,
   "id": "2b17e0db",
   "metadata": {},
   "outputs": [
    {
     "data": {
      "text/html": [
       "<div>\n",
       "<style scoped>\n",
       "    .dataframe tbody tr th:only-of-type {\n",
       "        vertical-align: middle;\n",
       "    }\n",
       "\n",
       "    .dataframe tbody tr th {\n",
       "        vertical-align: top;\n",
       "    }\n",
       "\n",
       "    .dataframe thead th {\n",
       "        text-align: right;\n",
       "    }\n",
       "</style>\n",
       "<table border=\"1\" class=\"dataframe\">\n",
       "  <thead>\n",
       "    <tr style=\"text-align: right;\">\n",
       "      <th></th>\n",
       "      <th>Exposure</th>\n",
       "      <th>Outcome</th>\n",
       "      <th>Estimated Effect</th>\n",
       "      <th>True Effect</th>\n",
       "    </tr>\n",
       "  </thead>\n",
       "  <tbody>\n",
       "    <tr>\n",
       "      <th>0</th>\n",
       "      <td>X_1</td>\n",
       "      <td>Y_1</td>\n",
       "      <td>0.092358</td>\n",
       "      <td>0.15</td>\n",
       "    </tr>\n",
       "    <tr>\n",
       "      <th>1</th>\n",
       "      <td>X_2</td>\n",
       "      <td>Y_1</td>\n",
       "      <td>0.113488</td>\n",
       "      <td>0.20</td>\n",
       "    </tr>\n",
       "    <tr>\n",
       "      <th>2</th>\n",
       "      <td>X_3</td>\n",
       "      <td>Y_1</td>\n",
       "      <td>0.197806</td>\n",
       "      <td>0.15</td>\n",
       "    </tr>\n",
       "    <tr>\n",
       "      <th>3</th>\n",
       "      <td>X_4</td>\n",
       "      <td>Y_1</td>\n",
       "      <td>0.093368</td>\n",
       "      <td>0.00</td>\n",
       "    </tr>\n",
       "    <tr>\n",
       "      <th>4</th>\n",
       "      <td>X_5</td>\n",
       "      <td>Y_1</td>\n",
       "      <td>0.015383</td>\n",
       "      <td>0.00</td>\n",
       "    </tr>\n",
       "    <tr>\n",
       "      <th>5</th>\n",
       "      <td>X_1</td>\n",
       "      <td>Y_2</td>\n",
       "      <td>0.078946</td>\n",
       "      <td>0.10</td>\n",
       "    </tr>\n",
       "    <tr>\n",
       "      <th>6</th>\n",
       "      <td>X_2</td>\n",
       "      <td>Y_2</td>\n",
       "      <td>0.100572</td>\n",
       "      <td>0.15</td>\n",
       "    </tr>\n",
       "    <tr>\n",
       "      <th>7</th>\n",
       "      <td>X_3</td>\n",
       "      <td>Y_2</td>\n",
       "      <td>0.038683</td>\n",
       "      <td>0.00</td>\n",
       "    </tr>\n",
       "    <tr>\n",
       "      <th>8</th>\n",
       "      <td>X_4</td>\n",
       "      <td>Y_2</td>\n",
       "      <td>0.282254</td>\n",
       "      <td>0.25</td>\n",
       "    </tr>\n",
       "    <tr>\n",
       "      <th>9</th>\n",
       "      <td>X_5</td>\n",
       "      <td>Y_2</td>\n",
       "      <td>0.002345</td>\n",
       "      <td>0.00</td>\n",
       "    </tr>\n",
       "    <tr>\n",
       "      <th>10</th>\n",
       "      <td>X_1</td>\n",
       "      <td>Y_3</td>\n",
       "      <td>0.102354</td>\n",
       "      <td>0.20</td>\n",
       "    </tr>\n",
       "    <tr>\n",
       "      <th>11</th>\n",
       "      <td>X_2</td>\n",
       "      <td>Y_3</td>\n",
       "      <td>0.051661</td>\n",
       "      <td>0.10</td>\n",
       "    </tr>\n",
       "    <tr>\n",
       "      <th>12</th>\n",
       "      <td>X_3</td>\n",
       "      <td>Y_3</td>\n",
       "      <td>0.107061</td>\n",
       "      <td>0.00</td>\n",
       "    </tr>\n",
       "    <tr>\n",
       "      <th>13</th>\n",
       "      <td>X_4</td>\n",
       "      <td>Y_3</td>\n",
       "      <td>0.060639</td>\n",
       "      <td>0.00</td>\n",
       "    </tr>\n",
       "    <tr>\n",
       "      <th>14</th>\n",
       "      <td>X_5</td>\n",
       "      <td>Y_3</td>\n",
       "      <td>0.286090</td>\n",
       "      <td>0.25</td>\n",
       "    </tr>\n",
       "  </tbody>\n",
       "</table>\n",
       "</div>"
      ],
      "text/plain": [
       "   Exposure Outcome  Estimated Effect  True Effect\n",
       "0       X_1     Y_1          0.092358         0.15\n",
       "1       X_2     Y_1          0.113488         0.20\n",
       "2       X_3     Y_1          0.197806         0.15\n",
       "3       X_4     Y_1          0.093368         0.00\n",
       "4       X_5     Y_1          0.015383         0.00\n",
       "5       X_1     Y_2          0.078946         0.10\n",
       "6       X_2     Y_2          0.100572         0.15\n",
       "7       X_3     Y_2          0.038683         0.00\n",
       "8       X_4     Y_2          0.282254         0.25\n",
       "9       X_5     Y_2          0.002345         0.00\n",
       "10      X_1     Y_3          0.102354         0.20\n",
       "11      X_2     Y_3          0.051661         0.10\n",
       "12      X_3     Y_3          0.107061         0.00\n",
       "13      X_4     Y_3          0.060639         0.00\n",
       "14      X_5     Y_3          0.286090         0.25"
      ]
     },
     "execution_count": 10,
     "metadata": {},
     "output_type": "execute_result"
    }
   ],
   "source": [
    "merged_effects"
   ]
  },
  {
   "cell_type": "code",
   "execution_count": 11,
   "id": "41c11cad",
   "metadata": {},
   "outputs": [
    {
     "data": {
      "text/plain": [
       "[<matplotlib.lines.Line2D at 0x12a9a8510>]"
      ]
     },
     "execution_count": 11,
     "metadata": {},
     "output_type": "execute_result"
    },
    {
     "data": {
      "image/png": "[encoded data removed]",
      "text/plain": [
       "<Figure size 640x480 with 1 Axes>"
      ]
     },
     "metadata": {},
     "output_type": "display_data"
    }
   ],
   "source": [
    "import matplotlib.pyplot as plt\n",
    "x = np.array([i for i in range(-30,30,1)])\n",
    "#     X = sm.add_constant(exposures.loc[dico[exposure_column],exposure_column])\n",
    "#     y = outcomes.loc[dico[exposure_column],outcome_column]\n",
    "plt.scatter(exposures.loc[dico[\"X_1\"],\"X_1\"],outcomes.loc[dico[\"X_1\"],\"Y_1\"],label=\"1\",color=\"blue\")\n",
    "plt.scatter(exposures.loc[dico[\"X_2\"],\"X_2\"],outcomes.loc[dico[\"X_2\"],\"Y_1\"],label=\"2\",color=\"red\")\n",
    "plt.scatter(exposures.loc[dico[\"X_3\"],\"X_3\"],outcomes.loc[dico[\"X_3\"],\"Y_1\"],label=\"3\",color=\"green\")\n",
    "plt.scatter(exposures.loc[dico[\"X_4\"],\"X_4\"],outcomes.loc[dico[\"X_4\"],\"Y_1\"],label=\"4\",color=\"yellow\")\n",
    "plt.scatter(exposures.loc[dico[\"X_5\"],\"X_5\"],outcomes.loc[dico[\"X_5\"],\"Y_1\"],label=\"5\",color=\"black\")\n",
    "plt.plot(x, 0.149415 * x + 0.126813, color='purple', label='Régression linéaire')\n",
    "# median_value = exposures['X_1'].median()\n",
    "# x = exposures[exposures['X_1'] < median_value]['X_1'].values\n",
    "# y = outcomes[exposures['X_1'] < median_value]['Y_1'].values"
   ]
  },
  {
   "cell_type": "code",
   "execution_count": 12,
   "id": "dac232fc",
   "metadata": {},
   "outputs": [
    {
     "data": {
      "text/plain": [
       "const   -0.216034\n",
       "X_1      0.092358\n",
       "X_2      0.113488\n",
       "X_3      0.197806\n",
       "X_4      0.093368\n",
       "X_5      0.015383\n",
       "dtype: float64"
      ]
     },
     "execution_count": 12,
     "metadata": {},
     "output_type": "execute_result"
    }
   ],
   "source": [
    "import statsmodels.api as sm\n",
    "sm.OLS(outcomes[\"Y_1\"], sm.add_constant(exposures)).fit().params"
   ]
  },
  {
   "cell_type": "code",
   "execution_count": 13,
   "id": "f5cc1387",
   "metadata": {},
   "outputs": [
    {
     "data": {
      "text/plain": [
       "array([ 0.12482783, -0.06078743])"
      ]
     },
     "execution_count": 13,
     "metadata": {},
     "output_type": "execute_result"
    }
   ],
   "source": [
    "# méthode classique\n",
    "np.polyfit(exposures[\"X_1\"], outcomes[\"Y_1\"], 1)"
   ]
  },
  {
   "cell_type": "code",
   "execution_count": 14,
   "id": "e13f0a05",
   "metadata": {},
   "outputs": [
    {
     "name": "stdout",
     "output_type": "stream",
     "text": [
      "0.1372805228718571\n",
      "0.14852098020452453\n",
      "0.15489033891520293\n",
      "-0.008243035589995467\n",
      "0.010860366185837403\n",
      "0.09410920845216333\n",
      "0.09750983948853152\n",
      "0.014978896217214925\n",
      "0.2352094867333532\n",
      "0.03380940487214923\n",
      "0.15548984005214125\n",
      "0.09832565473319739\n",
      "0.0038887049978205265\n",
      "0.006751409998144389\n",
      "0.25350819663831925\n"
     ]
    }
   ],
   "source": [
    "# IVW\n",
    "scenar = 3\n",
    "IVs = results_df['IV Indices'].iloc[scenar]\n",
    "exposures = results_df.loc[scenar,\"Base Dataset\"].iloc[IVs, 3:]\n",
    "outcomes = results_df.loc[scenar,\"Base Dataset\"].iloc[IVs, :3]\n",
    "for outcome_column in outcomes.columns:\n",
    "    stdY = results_df.loc[scenar,\"Standard Deviation\"][outcome_column]\n",
    "    for exposure_column in exposures.columns:\n",
    "        B = outcomes[outcome_column]/exposures[exposure_column]\n",
    "        N = sum((exposures[exposure_column]**2)*(stdY**-2)*B)\n",
    "        D = sum((exposures[exposure_column]**2)*(stdY**-2))\n",
    "        print(N/D)"
   ]
  },
  {
   "cell_type": "code",
   "execution_count": 15,
   "id": "5ad44a47",
   "metadata": {},
   "outputs": [
    {
     "name": "stdout",
     "output_type": "stream",
     "text": [
      "0.0943017526201804\n",
      "0.09581494642544602\n",
      "0.0885487831237427\n",
      "0.003973472281121384\n",
      "0.007670384701930444\n",
      "0.061316691585727875\n",
      "0.060766784780393324\n",
      "0.011057423300573953\n",
      "0.12712394581154224\n",
      "0.018896759399347363\n",
      "0.10209257140535524\n",
      "0.06522585581543937\n",
      "0.007304892715953893\n",
      "0.002989193523388582\n",
      "0.12166138935398921\n"
     ]
    }
   ],
   "source": [
    "# IVW\n",
    "scenar = 3\n",
    "IVs = results_df['IV Indices'].iloc[scenar]\n",
    "exposures = results_df.loc[scenar,\"Base Dataset\"].iloc[:, 3:]\n",
    "outcomes = results_df.loc[scenar,\"Base Dataset\"].iloc[:, :3]\n",
    "for outcome_column in outcomes.columns:\n",
    "    stdY = results_df.loc[scenar,\"Standard Deviation\"][outcome_column]\n",
    "    for exposure_column in exposures.columns:\n",
    "        B = outcomes[outcome_column]/exposures[exposure_column]\n",
    "        Z = np.polyfit(exposures[exposure_column], outcomes[outcome_column], 1)\n",
    "        N = sum((exposures[exposure_column]**2)*(stdY**-2)*B)\n",
    "        D = sum((exposures[exposure_column]**2)*(stdY**-2))\n",
    "        print(N/D)"
   ]
  },
  {
   "cell_type": "code",
   "execution_count": 16,
   "id": "797ef779",
   "metadata": {},
   "outputs": [
    {
     "name": "stdout",
     "output_type": "stream",
     "text": [
      "0.039159883085407174\n",
      "0.014415576009766907\n",
      "0.01900364800898143\n",
      "0.033459074285340104\n",
      "0.006113388493973228\n",
      "0.00856686597323822\n",
      "0.005873865554982338\n",
      "-0.001766247561334571\n",
      "0.022894137182804027\n",
      "0.023817729870272586\n",
      "0.010168014815370418\n",
      "0.02281303217826608\n",
      "-0.011137409106252803\n",
      "0.009527999124380715\n",
      "0.00633342007573564\n"
     ]
    }
   ],
   "source": [
    "# Median-based\n",
    "for outcome_column in outcomes.columns:\n",
    "    for exposure_column in exposures.columns:\n",
    "        B = outcomes[outcome_column]/exposures[exposure_column]\n",
    "        print(B.median())"
   ]
  },
  {
   "cell_type": "code",
   "execution_count": 61,
   "id": "bc173e6b",
   "metadata": {},
   "outputs": [],
   "source": [
    "# Weighted Median Estimator\n",
    "# for outcome_column in outcomes.columns:\n",
    "#     stdY = results_df.loc[scenar,\"Standard Deviation\"][outcome_column]\n",
    "#     for exposure_column in exposures.columns:\n",
    "#         B = outcomes[outcome_column]/exposures[exposure_column]\n",
    "#         W = exposures[exposure_column]**2/stdY**2\n",
    "#         R = W/sum(W)\n",
    "#         R = np.cumsum(R)\n",
    "#         indice = np.where(R.values>0.5)[0][0]\n",
    "#         BWM = B.iloc[indice-1]+(B.iloc[indice]-B.iloc[indice-1])*((0.5-R.iloc[indice-1])/(R.iloc[indice]-R.iloc[indice-1]))\n",
    "#         print(R.iloc[indice-1],B.iloc[indice-1],BWM)"
   ]
  }
 ],
 "metadata": {
  "kernelspec": {
   "display_name": "Python 3 (ipykernel)",
   "language": "python",
   "name": "python3"
  },
  "language_info": {
   "codemirror_mode": {
    "name": "ipython",
    "version": 3
   },
   "file_extension": ".py",
   "mimetype": "text/x-python",
   "name": "python",
   "nbconvert_exporter": "python",
   "pygments_lexer": "ipython3",
   "version": "3.11.5"
  }
 },
 "nbformat": 4,
 "nbformat_minor": 5
}
